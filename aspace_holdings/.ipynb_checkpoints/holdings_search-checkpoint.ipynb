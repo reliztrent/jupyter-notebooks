{
 "cells": [
  {
   "cell_type": "markdown",
   "metadata": {},
   "source": [
    "# to do:\n",
    "- Paginate\n",
    "- Make sure output is formatted usefully\n",
    "- Check to see if assumptions about notes aren't correct (that the search term could turn up in more than one note in a record)\n",
    "- Remove extra lines in the CSV\n",
    "- Why is it returning \"68\" when it sets up the CSV? "
   ]
  },
  {
   "cell_type": "code",
   "execution_count": 85,
   "metadata": {
    "collapsed": false
   },
   "outputs": [],
   "source": [
    "# Import some stuff you'll use\n",
    "import requests\n",
    "import json\n",
    "import csv"
   ]
  },
  {
   "cell_type": "markdown",
   "metadata": {},
   "source": [
    "# Change these: Add your credentials"
   ]
  },
  {
   "cell_type": "code",
   "execution_count": 83,
   "metadata": {
    "collapsed": false
   },
   "outputs": [
    {
     "name": "stdout",
     "output_type": "stream",
     "text": [
      "{'X-ArchivesSpace-Session': '3a8b97a185d845db8ef4d34518391ae83660b91c9e66232290a2789c537c19df'}\n"
     ]
    }
   ],
   "source": [
    "USER = 'Rachel'\n",
    "PASS = 'Gelman#2130'\n",
    "HOST = 'http://archivesspace.library.gwu.edu:8089' #don't end with a slash\n",
    "def aspace_auth(host, username, password):\n",
    "    auth = requests.post(HOST + '/users/' + username + '/login',\n",
    "                        params={'password' : password})\n",
    "    if auth.status_code == 200:\n",
    "        token = auth.json()['session']\n",
    "        headers = {'X-ArchivesSpace-Session': token}\n",
    "        return(headers)\n",
    "    else:\n",
    "        return(False)\n",
    "\n",
    "headers = aspace_auth(HOST, USER, PASS)\n",
    "print(headers)"
   ]
  },
  {
   "cell_type": "markdown",
   "metadata": {},
   "source": [
    "# Search for any aspace records of any type with a given query term in any notes field"
   ]
  },
  {
   "cell_type": "code",
   "execution_count": 84,
   "metadata": {
    "collapsed": false
   },
   "outputs": [
    {
     "data": {
      "text/plain": [
       "{'facets': {'facet_dates': {},\n",
       "  'facet_fields': {},\n",
       "  'facet_intervals': {},\n",
       "  'facet_queries': {},\n",
       "  'facet_ranges': {}},\n",
       " 'first_page': 1,\n",
       " 'last_page': 6,\n",
       " 'offset_first': 1,\n",
       " 'offset_last': 10,\n",
       " 'page_size': 10,\n",
       " 'results': [{'create_time': '2016-07-05T16:02:49Z',\n",
       "   'created_by': 'admin',\n",
       "   'date_type_enum_s': ['inclusive'],\n",
       "   'extent_type_enum_s': ['linear_feet'],\n",
       "   'external_id': ['1590'],\n",
       "   'finding_aid_description_rules_enum_s': ['dacs'],\n",
       "   'finding_aid_status': 'unprocessed',\n",
       "   'finding_aid_status_enum_s': ['unprocessed'],\n",
       "   'finding_aid_title': '',\n",
       "   'four_part_id': 'COR.0002.MS',\n",
       "   'id': '/repositories/2/resources/19',\n",
       "   'identifier': 'COR.0002.MS',\n",
       "   'json': '{\"lock_version\":0,\"title\":\"Constance Stuart Larrabee collection\",\"publish\":true,\"restrictions\":false,\"ead_location\":\"http://library.gwu.edu/ead/XXXXXX.xml\",\"finding_aid_title\":\"\\\\n\",\"finding_aid_author\":\"Finding aid prepared by Special Collections Research Center, The George Washington University\",\"finding_aid_language\":\"Finding aid written in <language encodinganalog=\\\\\"language\\\\\">English</language>\",\"created_by\":\"admin\",\"last_modified_by\":\"admin\",\"create_time\":\"2016-07-05T16:02:49Z\",\"system_mtime\":\"2017-10-17T12:27:24Z\",\"user_mtime\":\"2016-07-05T16:02:49Z\",\"suppressed\":false,\"id_0\":\"COR.0002.MS\",\"language\":\"eng\",\"level\":\"collection\",\"finding_aid_description_rules\":\"dacs\",\"finding_aid_status\":\"unprocessed\",\"jsonmodel_type\":\"resource\",\"external_ids\":[{\"external_id\":\"1590\",\"source\":\"Archivists Toolkit Database::RESOURCE\",\"created_by\":\"admin\",\"last_modified_by\":\"admin\",\"create_time\":\"2016-07-05T16:02:49Z\",\"system_mtime\":\"2016-07-05T16:02:49Z\",\"user_mtime\":\"2016-07-05T16:02:49Z\",\"jsonmodel_type\":\"external_id\"}],\"subjects\":[],\"linked_events\":[],\"extents\":[{\"lock_version\":0,\"number\":\"27\",\"created_by\":\"admin\",\"last_modified_by\":\"admin\",\"create_time\":\"2016-07-05T16:02:49Z\",\"system_mtime\":\"2016-07-05T16:02:49Z\",\"user_mtime\":\"2016-07-05T16:02:49Z\",\"portion\":\"whole\",\"extent_type\":\"linear_feet\",\"jsonmodel_type\":\"extent\"}],\"dates\":[{\"lock_version\":0,\"expression\":\"1907-1982\",\"begin\":\"1907\",\"end\":\"1982\",\"created_by\":\"admin\",\"last_modified_by\":\"admin\",\"create_time\":\"2016-07-05T16:02:49Z\",\"system_mtime\":\"2016-07-05T16:02:49Z\",\"user_mtime\":\"2016-07-05T16:02:49Z\",\"date_type\":\"inclusive\",\"label\":\"creation\",\"jsonmodel_type\":\"date\"}],\"external_documents\":[],\"rights_statements\":[],\"linked_agents\":[],\"revision_statements\":[],\"instances\":[],\"deaccessions\":[],\"related_accessions\":[{\"ref\":\"/repositories/2/accessions/1103\"}],\"classifications\":[],\"notes\":[{\"jsonmodel_type\":\"note_multipart\",\"label\":\"Bib#\",\"subnotes\":[{\"content\":\"15983737\\\\n\\\\nunprocessed holdings: 18269903\",\"jsonmodel_type\":\"note_text\",\"publish\":false}],\"type\":\"odd\",\"persistent_id\":\"c6172dee8ced281a41ddeedc2747ada5\",\"publish\":false}],\"uri\":\"/repositories/2/resources/19\",\"repository\":{\"ref\":\"/repositories/2\"},\"tree\":{\"ref\":\"/repositories/2/resources/19/tree\"}}',\n",
       "   'jsonmodel_type': 'resource',\n",
       "   'label_enum_s': ['creation'],\n",
       "   'language': 'eng',\n",
       "   'language_enum_s': ['eng'],\n",
       "   'last_modified_by': 'admin',\n",
       "   'level': 'collection',\n",
       "   'level_enum_s': ['collection'],\n",
       "   'notes': 'Bib# 15983737\\n\\nunprocessed holdings: 18269903 odd c6172dee8ced281a41ddeedc2747ada5',\n",
       "   'portion_enum_s': ['whole'],\n",
       "   'primary_type': 'resource',\n",
       "   'publish': True,\n",
       "   'repository': '/repositories/2',\n",
       "   'restrictions': 'false',\n",
       "   'source_enum_s': ['Archivists Toolkit Database::RESOURCE'],\n",
       "   'suppressed': False,\n",
       "   'system_generated': False,\n",
       "   'system_mtime': '2017-10-17T12:27:24Z',\n",
       "   'title': 'Constance Stuart Larrabee collection',\n",
       "   'type_enum_s': ['odd'],\n",
       "   'types': ['resource'],\n",
       "   'uri': '/repositories/2/resources/19',\n",
       "   'user_mtime': '2016-07-05T16:02:49Z'},\n",
       "  {'create_time': '2016-07-06T05:48:26Z',\n",
       "   'created_by': 'admin',\n",
       "   'date_type_enum_s': ['single'],\n",
       "   'external_id': ['36235'],\n",
       "   'id': '/repositories/2/archival_objects/332076',\n",
       "   'instance_type_enum_s': ['mixed_materials'],\n",
       "   'json': '{\"lock_version\":0,\"position\":0,\"publish\":true,\"ref_id\":\"ref149_uta\",\"title\":\"Loose material in front of binder\",\"display_string\":\"Loose material in front of binder, 02/01/1928\",\"restrictions_apply\":false,\"created_by\":\"admin\",\"last_modified_by\":\"admin\",\"create_time\":\"2016-07-06T05:48:26Z\",\"system_mtime\":\"2017-10-17T12:26:56Z\",\"user_mtime\":\"2016-07-06T05:48:26Z\",\"suppressed\":false,\"level\":\"file\",\"jsonmodel_type\":\"archival_object\",\"external_ids\":[{\"external_id\":\"36235\",\"source\":\"Archivists Toolkit Database::RESOURCE_COMPONENT\",\"created_by\":\"admin\",\"last_modified_by\":\"admin\",\"create_time\":\"2016-07-06T05:48:26Z\",\"system_mtime\":\"2016-07-06T05:48:26Z\",\"user_mtime\":\"2016-07-06T05:48:26Z\",\"jsonmodel_type\":\"external_id\"}],\"subjects\":[],\"linked_events\":[],\"extents\":[],\"dates\":[{\"lock_version\":0,\"expression\":\"02/01/1928\",\"created_by\":\"admin\",\"last_modified_by\":\"admin\",\"create_time\":\"2016-07-06T05:48:26Z\",\"system_mtime\":\"2016-07-06T05:48:26Z\",\"user_mtime\":\"2016-07-06T05:48:26Z\",\"date_type\":\"single\",\"label\":\"creation\",\"jsonmodel_type\":\"date\"}],\"external_documents\":[],\"rights_statements\":[],\"linked_agents\":[],\"instances\":[{\"lock_version\":0,\"created_by\":\"admin\",\"last_modified_by\":\"admin\",\"create_time\":\"2016-07-06T05:48:26Z\",\"system_mtime\":\"2016-07-06T05:48:26Z\",\"user_mtime\":\"2016-07-06T05:48:26Z\",\"instance_type\":\"mixed_materials\",\"jsonmodel_type\":\"instance\",\"is_representative\":false,\"sub_container\":{\"lock_version\":0,\"indicator_2\":\"1.1\",\"created_by\":\"admin\",\"last_modified_by\":\"admin\",\"create_time\":\"2017-10-17T13:23:23Z\",\"system_mtime\":\"2017-10-17T13:23:23Z\",\"user_mtime\":\"2017-10-17T13:23:23Z\",\"type_2\":\"Folder\",\"jsonmodel_type\":\"sub_container\",\"top_container\":{\"ref\":\"/repositories/2/top_containers/27373\"}},\"container\":{\"type_1\":\"Box\",\"indicator_1\":\"1\",\"barcode_1\":\"Series 4 GW: 32882018394067\",\"type_2\":\"Folder\",\"indicator_2\":\"1.1\",\"container_locations\":[{\"jsonmodel_type\":\"container_location\",\"status\":\"current\",\"start_date\":\"2016-07-06\",\"system_mtime\":\"2017-10-17 13:23:23 UTC\",\"user_mtime\":\"2017-10-17 13:23:23 UTC\",\"ref\":\"/locations/1\",\"_resolved\":{\"lock_version\":5,\"building\":\"Off-site\",\"title\":\"Off-site [WRLC: unspecified]\",\"coordinate_1_label\":\"WRLC\",\"coordinate_1_indicator\":\"unspecified\",\"created_by\":\"admin\",\"last_modified_by\":\"admin\",\"create_time\":\"2016-07-05T15:06:48Z\",\"system_mtime\":\"2017-10-17T12:27:25Z\",\"user_mtime\":\"2017-05-18T15:15:56Z\",\"jsonmodel_type\":\"location\",\"external_ids\":[{\"external_id\":\"2\",\"source\":\"Archivists Toolkit Database::LOCATION\",\"created_by\":\"admin\",\"last_modified_by\":\"admin\",\"create_time\":\"2017-05-18T15:15:56Z\",\"system_mtime\":\"2017-05-18T15:15:56Z\",\"user_mtime\":\"2017-05-18T15:15:56Z\",\"jsonmodel_type\":\"external_id\"},{\"external_id\":\"1916\",\"source\":\"Archivists Toolkit Database::LOCATION\",\"created_by\":\"admin\",\"last_modified_by\":\"admin\",\"create_time\":\"2017-05-18T15:16:25Z\",\"system_mtime\":\"2017-05-18T15:16:25Z\",\"user_mtime\":\"2017-05-18T15:16:25Z\",\"jsonmodel_type\":\"external_id\"}],\"functions\":[],\"uri\":\"/locations/1\"}}],\"lock_version\":55}}],\"notes\":[{\"jsonmodel_type\":\"note_multipart\",\"label\":\"General note\",\"subnotes\":[{\"content\":\"Plat showing holdings of GWU - Square 102 (Between G and H and 20th and 21st Streets), and adjacent buildings\\\\n\\\\n\",\"jsonmodel_type\":\"note_text\",\"publish\":true}],\"type\":\"odd\",\"persistent_id\":\"288ea7196664ac41dbf60663a20482d9\",\"publish\":true}],\"uri\":\"/repositories/2/archival_objects/332076\",\"repository\":{\"ref\":\"/repositories/2\"},\"resource\":{\"ref\":\"/repositories/2/resources/615\"},\"parent\":{\"ref\":\"/repositories/2/archival_objects/332075\"},\"has_unpublished_ancestor\":false}',\n",
       "   'jsonmodel_type': 'archival_object',\n",
       "   'label_enum_s': ['creation'],\n",
       "   'last_modified_by': 'admin',\n",
       "   'level': 'file',\n",
       "   'level_enum_s': ['file'],\n",
       "   'notes': 'General note Plat showing holdings of GWU - Square 102 (Between G and H and 20th and 21st Streets), and adjacent buildings\\n\\n odd 288ea7196664ac41dbf60663a20482d9',\n",
       "   'primary_type': 'archival_object',\n",
       "   'publish': True,\n",
       "   'repository': '/repositories/2',\n",
       "   'resource': '/repositories/2/resources/615',\n",
       "   'source_enum_s': ['Archivists Toolkit Database::RESOURCE_COMPONENT'],\n",
       "   'suppressed': False,\n",
       "   'system_generated': False,\n",
       "   'system_mtime': '2017-10-17T12:26:56Z',\n",
       "   'title': 'Loose material in front of binder, 02/01/1928',\n",
       "   'top_container_uri_u_sstr': ['/repositories/2/top_containers/27373'],\n",
       "   'type_1_enum_s': ['Box'],\n",
       "   'type_2_enum_s': ['Folder'],\n",
       "   'type_enum_s': ['odd'],\n",
       "   'types': ['archival_object'],\n",
       "   'uri': '/repositories/2/archival_objects/332076',\n",
       "   'user_mtime': '2016-07-06T05:48:26Z'},\n",
       "  {'create_time': '2016-07-06T04:39:08Z',\n",
       "   'created_by': 'admin',\n",
       "   'date_type_enum_s': ['single'],\n",
       "   'external_id': ['16408'],\n",
       "   'id': '/repositories/2/archival_objects/297607',\n",
       "   'instance_type_enum_s': ['mixed_materials'],\n",
       "   'json': '{\"lock_version\":0,\"position\":3,\"publish\":true,\"ref_id\":\"ref2660_x1p\",\"title\":\"Plat map showing holdings of GW: Square 102\",\"display_string\":\"Plat map showing holdings of GW: Square 102, 02/01/1928\",\"restrictions_apply\":false,\"created_by\":\"admin\",\"last_modified_by\":\"admin\",\"create_time\":\"2016-07-06T04:39:08Z\",\"system_mtime\":\"2017-10-17T12:26:56Z\",\"user_mtime\":\"2016-07-06T04:39:08Z\",\"suppressed\":false,\"level\":\"file\",\"jsonmodel_type\":\"archival_object\",\"external_ids\":[{\"external_id\":\"16408\",\"source\":\"Archivists Toolkit Database::RESOURCE_COMPONENT\",\"created_by\":\"admin\",\"last_modified_by\":\"admin\",\"create_time\":\"2016-07-06T04:39:08Z\",\"system_mtime\":\"2016-07-06T04:39:08Z\",\"user_mtime\":\"2016-07-06T04:39:08Z\",\"jsonmodel_type\":\"external_id\"}],\"subjects\":[],\"linked_events\":[],\"extents\":[],\"dates\":[{\"lock_version\":0,\"expression\":\"02/01/1928\",\"created_by\":\"admin\",\"last_modified_by\":\"admin\",\"create_time\":\"2016-07-06T04:39:08Z\",\"system_mtime\":\"2016-07-06T04:39:08Z\",\"user_mtime\":\"2016-07-06T04:39:08Z\",\"date_type\":\"single\",\"label\":\"creation\",\"jsonmodel_type\":\"date\"}],\"external_documents\":[],\"rights_statements\":[],\"linked_agents\":[],\"instances\":[{\"lock_version\":0,\"created_by\":\"admin\",\"last_modified_by\":\"admin\",\"create_time\":\"2016-07-06T04:39:08Z\",\"system_mtime\":\"2016-07-06T04:39:08Z\",\"user_mtime\":\"2016-07-06T04:39:08Z\",\"instance_type\":\"mixed_materials\",\"jsonmodel_type\":\"instance\",\"is_representative\":false,\"sub_container\":{\"lock_version\":0,\"indicator_2\":\"data_value_missing_c8b5173eb52772502b3d35d979d4fc7a\",\"created_by\":\"admin\",\"last_modified_by\":\"admin\",\"create_time\":\"2017-10-17T13:18:54Z\",\"system_mtime\":\"2017-10-17T13:18:54Z\",\"user_mtime\":\"2017-10-17T13:18:54Z\",\"type_2\":\"Folder\",\"jsonmodel_type\":\"sub_container\",\"top_container\":{\"ref\":\"/repositories/2/top_containers/26065\"}},\"container\":{\"type_1\":\"Box\",\"indicator_1\":\"242\",\"barcode_1\":\"Series 6 GW: 32882015252649\",\"type_2\":\"Folder\",\"indicator_2\":\"data_value_missing_c8b5173eb52772502b3d35d979d4fc7a\",\"container_locations\":[{\"jsonmodel_type\":\"container_location\",\"status\":\"current\",\"start_date\":\"2016-07-06\",\"system_mtime\":\"2017-10-17 13:18:54 UTC\",\"user_mtime\":\"2017-10-17 13:18:54 UTC\",\"ref\":\"/locations/802\",\"_resolved\":{\"lock_version\":0,\"building\":\"Gelman\",\"title\":\"Gelman, B05C [Floor:  Oversize]\",\"room\":\"B05C\",\"coordinate_1_label\":\"Floor\",\"coordinate_1_indicator\":\" Oversize\",\"created_by\":\"admin\",\"last_modified_by\":\"admin\",\"create_time\":\"2016-07-05T15:07:14Z\",\"system_mtime\":\"2017-10-17T12:27:25Z\",\"user_mtime\":\"2016-07-05T15:07:14Z\",\"jsonmodel_type\":\"location\",\"external_ids\":[{\"external_id\":\"1301\",\"source\":\"Archivists Toolkit Database::LOCATION\",\"created_by\":\"admin\",\"last_modified_by\":\"admin\",\"create_time\":\"2016-07-05T15:07:14Z\",\"system_mtime\":\"2016-07-05T15:07:14Z\",\"user_mtime\":\"2016-07-05T15:07:14Z\",\"jsonmodel_type\":\"external_id\"}],\"functions\":[],\"uri\":\"/locations/802\"}}],\"lock_version\":2}}],\"notes\":[{\"jsonmodel_type\":\"note_multipart\",\"label\":\"General note\",\"subnotes\":[{\"content\":\"Framed plat map showing holdings of GW: Square 102 (between G and H streets and 20th and 21st streets, N.W.), and adjacent buildings, Feb. 1, 1928\\\\n\\\\nFormerly Acc#927 \\\\n\\\\n\",\"jsonmodel_type\":\"note_text\",\"publish\":true}],\"type\":\"odd\",\"persistent_id\":\"c9c87c4092f4f508f1376620585989f3\",\"publish\":true}],\"uri\":\"/repositories/2/archival_objects/297607\",\"repository\":{\"ref\":\"/repositories/2\"},\"resource\":{\"ref\":\"/repositories/2/resources/583\"},\"parent\":{\"ref\":\"/repositories/2/archival_objects/297603\"},\"has_unpublished_ancestor\":false}',\n",
       "   'jsonmodel_type': 'archival_object',\n",
       "   'label_enum_s': ['creation'],\n",
       "   'last_modified_by': 'admin',\n",
       "   'level': 'file',\n",
       "   'level_enum_s': ['file'],\n",
       "   'notes': 'General note Framed plat map showing holdings of GW: Square 102 (between G and H streets and 20th and 21st streets, N.W.), and adjacent buildings, Feb. 1, 1928\\n\\nFormerly Acc#927 \\n\\n odd c9c87c4092f4f508f1376620585989f3',\n",
       "   'primary_type': 'archival_object',\n",
       "   'publish': True,\n",
       "   'repository': '/repositories/2',\n",
       "   'resource': '/repositories/2/resources/583',\n",
       "   'source_enum_s': ['Archivists Toolkit Database::RESOURCE_COMPONENT'],\n",
       "   'suppressed': False,\n",
       "   'system_generated': False,\n",
       "   'system_mtime': '2017-10-17T12:26:56Z',\n",
       "   'title': 'Plat map showing holdings of GW: Square 102, 02/01/1928',\n",
       "   'top_container_uri_u_sstr': ['/repositories/2/top_containers/26065'],\n",
       "   'type_1_enum_s': ['Box'],\n",
       "   'type_2_enum_s': ['Folder'],\n",
       "   'type_enum_s': ['odd'],\n",
       "   'types': ['archival_object'],\n",
       "   'uri': '/repositories/2/archival_objects/297607',\n",
       "   'user_mtime': '2016-07-06T04:39:08Z'},\n",
       "  {'_agents_corporate_entities_324_relator_sort': 'subject',\n",
       "   'agent_uris': ['/agents/corporate_entities/324'],\n",
       "   'agents': ['Riggs & Co. of New York'],\n",
       "   'agents_text': ['Riggs & Co. of New York'],\n",
       "   'create_time': '2016-07-06T00:44:08Z',\n",
       "   'created_by': 'admin',\n",
       "   'date_type_enum_s': ['single'],\n",
       "   'external_id': ['129527'],\n",
       "   'id': '/repositories/2/archival_objects/181369',\n",
       "   'instance_type_enum_s': ['mixed_materials'],\n",
       "   'json': '{\"lock_version\":0,\"position\":7,\"publish\":true,\"ref_id\":\"ref10883_afy\",\"component_id\":\"Former PNC no. 291\",\"title\":\"General Ledger\",\"display_string\":\"General Ledger, 1882-1885\",\"restrictions_apply\":false,\"created_by\":\"admin\",\"last_modified_by\":\"admin\",\"create_time\":\"2016-07-06T00:44:08Z\",\"system_mtime\":\"2017-10-17T12:26:56Z\",\"user_mtime\":\"2016-07-06T00:44:08Z\",\"suppressed\":false,\"level\":\"file\",\"jsonmodel_type\":\"archival_object\",\"external_ids\":[{\"external_id\":\"129527\",\"source\":\"Archivists Toolkit Database::RESOURCE_COMPONENT\",\"created_by\":\"admin\",\"last_modified_by\":\"admin\",\"create_time\":\"2016-07-06T00:44:08Z\",\"system_mtime\":\"2016-07-06T00:44:08Z\",\"user_mtime\":\"2016-07-06T00:44:08Z\",\"jsonmodel_type\":\"external_id\"}],\"subjects\":[],\"linked_events\":[],\"extents\":[],\"dates\":[{\"lock_version\":0,\"expression\":\"1882-1885\",\"created_by\":\"admin\",\"last_modified_by\":\"admin\",\"create_time\":\"2016-07-06T00:44:08Z\",\"system_mtime\":\"2016-07-06T00:44:08Z\",\"user_mtime\":\"2016-07-06T00:44:08Z\",\"date_type\":\"single\",\"label\":\"creation\",\"jsonmodel_type\":\"date\"}],\"external_documents\":[],\"rights_statements\":[],\"linked_agents\":[{\"role\":\"subject\",\"terms\":[],\"ref\":\"/agents/corporate_entities/324\",\"_resolved\":{\"lock_version\":2,\"publish\":false,\"created_by\":\"admin\",\"last_modified_by\":\"admin\",\"create_time\":\"2016-07-05T15:09:56Z\",\"system_mtime\":\"2017-10-17T12:27:25Z\",\"user_mtime\":\"2016-07-05T15:09:56Z\",\"jsonmodel_type\":\"agent_corporate_entity\",\"agent_contacts\":[{\"lock_version\":0,\"name\":\"Riggs & Co. of New York\",\"created_by\":\"admin\",\"last_modified_by\":\"admin\",\"create_time\":\"2016-07-05T15:09:56Z\",\"system_mtime\":\"2016-07-05T15:09:56Z\",\"user_mtime\":\"2016-07-05T15:09:56Z\",\"jsonmodel_type\":\"agent_contact\",\"telephones\":[]}],\"linked_agent_roles\":[\"subject\"],\"external_documents\":[],\"rights_statements\":[],\"notes\":[],\"dates_of_existence\":[],\"names\":[{\"lock_version\":0,\"primary_name\":\"Riggs & Co. of New York\",\"sort_name\":\"Riggs & Co. of New York\",\"sort_name_auto_generate\":true,\"created_by\":\"admin\",\"last_modified_by\":\"admin\",\"create_time\":\"2016-07-05T15:09:56Z\",\"system_mtime\":\"2016-07-05T15:09:56Z\",\"user_mtime\":\"2016-07-05T15:09:56Z\",\"authorized\":true,\"is_display_name\":true,\"source\":\"local\",\"rules\":\"aacr\",\"jsonmodel_type\":\"name_corporate_entity\",\"use_dates\":[]}],\"related_agents\":[],\"uri\":\"/agents/corporate_entities/324\",\"agent_type\":\"agent_corporate_entity\",\"display_name\":{\"lock_version\":0,\"primary_name\":\"Riggs & Co. of New York\",\"sort_name\":\"Riggs & Co. of New York\",\"sort_name_auto_generate\":true,\"created_by\":\"admin\",\"last_modified_by\":\"admin\",\"create_time\":\"2016-07-05T15:09:56Z\",\"system_mtime\":\"2016-07-05T15:09:56Z\",\"user_mtime\":\"2016-07-05T15:09:56Z\",\"authorized\":true,\"is_display_name\":true,\"source\":\"local\",\"rules\":\"aacr\",\"jsonmodel_type\":\"name_corporate_entity\",\"use_dates\":[]},\"title\":\"Riggs & Co. of New York\",\"is_linked_to_published_record\":true}}],\"instances\":[{\"lock_version\":0,\"created_by\":\"admin\",\"last_modified_by\":\"admin\",\"create_time\":\"2016-07-06T00:44:08Z\",\"system_mtime\":\"2016-07-06T00:44:08Z\",\"user_mtime\":\"2016-07-06T00:44:08Z\",\"instance_type\":\"mixed_materials\",\"jsonmodel_type\":\"instance\",\"is_representative\":false,\"sub_container\":{\"lock_version\":0,\"created_by\":\"admin\",\"last_modified_by\":\"admin\",\"create_time\":\"2017-10-17T13:02:23Z\",\"system_mtime\":\"2017-10-17T13:02:23Z\",\"user_mtime\":\"2017-10-17T13:02:23Z\",\"jsonmodel_type\":\"sub_container\",\"top_container\":{\"ref\":\"/repositories/2/top_containers/16115\"}},\"container\":{\"type_1\":\"flat_box\",\"indicator_1\":\"38\",\"barcode_1\":\"RG3-FB-38\",\"container_locations\":[{\"jsonmodel_type\":\"container_location\",\"status\":\"current\",\"start_date\":\"2016-07-05\",\"system_mtime\":\"2017-10-17 13:02:16 UTC\",\"user_mtime\":\"2017-10-17 13:02:16 UTC\",\"ref\":\"/locations/841\",\"_resolved\":{\"lock_version\":0,\"building\":\"Gelman\",\"title\":\"Gelman, B05C [Range:  3, Shelf:  B2]\",\"room\":\"B05C\",\"coordinate_1_label\":\"Range\",\"coordinate_1_indicator\":\" 3\",\"coordinate_2_label\":\"Shelf\",\"coordinate_2_indicator\":\" B2\",\"created_by\":\"admin\",\"last_modified_by\":\"admin\",\"create_time\":\"2016-07-05T15:07:15Z\",\"system_mtime\":\"2017-10-17T12:27:25Z\",\"user_mtime\":\"2016-07-05T15:07:15Z\",\"jsonmodel_type\":\"location\",\"external_ids\":[{\"external_id\":\"1776\",\"source\":\"Archivists Toolkit Database::LOCATION\",\"created_by\":\"admin\",\"last_modified_by\":\"admin\",\"create_time\":\"2016-07-05T15:07:15Z\",\"system_mtime\":\"2016-07-05T15:07:15Z\",\"user_mtime\":\"2016-07-05T15:07:15Z\",\"jsonmodel_type\":\"external_id\"}],\"functions\":[],\"uri\":\"/locations/841\"}}],\"lock_version\":2}}],\"notes\":[{\"content\":[\"Binding loose.\"],\"jsonmodel_type\":\"note_singlepart\",\"label\":\"General Physical Description note\",\"type\":\"physdesc\",\"persistent_id\":\"d230c60f8334a855dc83432bdb3baef8\",\"publish\":true},{\"jsonmodel_type\":\"note_multipart\",\"label\":\"Scope and Contents note\",\"subnotes\":[{\"content\":\"This ledger includes cash and commission accounts as well as special accounts, including holdings of bonds. Note the lettering in the headings. Identified as National Bank of Washington on basis of cover and existence of general ledger for Riggs &amp; Co. for this year.\\\\n\\\\n\",\"jsonmodel_type\":\"note_text\",\"publish\":true}],\"type\":\"scopecontent\",\"persistent_id\":\"02b9e3e8e48f7b5eb2102678b622305e\",\"publish\":true}],\"uri\":\"/repositories/2/archival_objects/181369\",\"repository\":{\"ref\":\"/repositories/2\"},\"resource\":{\"ref\":\"/repositories/2/resources/365\"},\"parent\":{\"ref\":\"/repositories/2/archival_objects/181361\"},\"has_unpublished_ancestor\":false}',\n",
       "   'jsonmodel_type': 'archival_object',\n",
       "   'label_enum_s': ['creation'],\n",
       "   'last_modified_by': 'admin',\n",
       "   'level': 'file',\n",
       "   'level_enum_s': ['file'],\n",
       "   'notes': 'Binding loose. General Physical Description note physdesc d230c60f8334a855dc83432bdb3baef8  Scope and Contents note This ledger includes cash and commission accounts as well as special accounts, including holdings of bonds. Note the lettering in the headings. Identified as National Bank of Washington on basis of cover and existence of general ledger for Riggs &amp; Co. for this year.\\n\\n scopecontent 02b9e3e8e48f7b5eb2102678b622305e',\n",
       "   'primary_type': 'archival_object',\n",
       "   'publish': True,\n",
       "   'repository': '/repositories/2',\n",
       "   'resource': '/repositories/2/resources/365',\n",
       "   'role_enum_s': ['subject'],\n",
       "   'rules_enum_s': ['aacr'],\n",
       "   'source_enum_s': ['Archivists Toolkit Database::RESOURCE_COMPONENT'],\n",
       "   'summary': 'This ledger includes cash and commission accounts as well as special accounts, including holdings of bonds. Note the lettering in the headings. Identified as National Bank of Washington on basis of cover and existence of general ledger for Riggs &amp; Co. for this year.',\n",
       "   'suppressed': False,\n",
       "   'system_generated': False,\n",
       "   'system_mtime': '2017-10-17T12:26:56Z',\n",
       "   'title': 'General Ledger, 1882-1885',\n",
       "   'top_container_uri_u_sstr': ['/repositories/2/top_containers/16115'],\n",
       "   'type_1_enum_s': ['flat_box'],\n",
       "   'type_enum_s': ['physdesc'],\n",
       "   'types': ['archival_object'],\n",
       "   'uri': '/repositories/2/archival_objects/181369',\n",
       "   'user_mtime': '2016-07-06T00:44:08Z'},\n",
       "  {'create_time': '2016-07-06T00:44:23Z',\n",
       "   'created_by': 'admin',\n",
       "   'date_type_enum_s': ['single'],\n",
       "   'external_id': ['128256'],\n",
       "   'id': '/repositories/2/archival_objects/182354',\n",
       "   'json': '{\"lock_version\":0,\"position\":5,\"publish\":true,\"ref_id\":\"ref12536_0u9\",\"component_id\":\"Record Group 4 Series 6\",\"title\":\"Trust\",\"display_string\":\"Trust, 1892-1952\",\"restrictions_apply\":false,\"created_by\":\"admin\",\"last_modified_by\":\"admin\",\"create_time\":\"2016-07-06T00:44:23Z\",\"system_mtime\":\"2017-10-17T12:26:56Z\",\"user_mtime\":\"2016-07-06T00:44:23Z\",\"suppressed\":false,\"level\":\"series\",\"jsonmodel_type\":\"archival_object\",\"external_ids\":[{\"external_id\":\"128256\",\"source\":\"Archivists Toolkit Database::RESOURCE_COMPONENT\",\"created_by\":\"admin\",\"last_modified_by\":\"admin\",\"create_time\":\"2016-07-06T00:44:23Z\",\"system_mtime\":\"2016-07-06T00:44:23Z\",\"user_mtime\":\"2016-07-06T00:44:23Z\",\"jsonmodel_type\":\"external_id\"}],\"subjects\":[],\"linked_events\":[],\"extents\":[],\"dates\":[{\"lock_version\":0,\"expression\":\"1892-1952\",\"created_by\":\"admin\",\"last_modified_by\":\"admin\",\"create_time\":\"2016-07-06T00:44:23Z\",\"system_mtime\":\"2016-07-06T00:44:23Z\",\"user_mtime\":\"2016-07-06T00:44:23Z\",\"date_type\":\"single\",\"label\":\"creation\",\"jsonmodel_type\":\"date\"}],\"external_documents\":[],\"rights_statements\":[],\"linked_agents\":[],\"instances\":[],\"notes\":[{\"content\":[\"<extent unit=\\\\\"linear feet\\\\\">22.71</extent><extent></extent>\"],\"jsonmodel_type\":\"note_singlepart\",\"label\":\"General Physical Description note\",\"type\":\"physdesc\",\"persistent_id\":\"911577eb400601427e2594519942ceab\",\"publish\":true},{\"jsonmodel_type\":\"note_multipart\",\"label\":\"Scope and Contents note\",\"subnotes\":[{\"content\":\"Consists of Washington Loan and Trust trust department account ledgers and paper files, estate files, a trust department real estate holdings ledger, and trust department and committee minutes.\\\\n\\\\n\",\"jsonmodel_type\":\"note_text\",\"publish\":true}],\"type\":\"scopecontent\",\"persistent_id\":\"2f02625bcbab98c5baf5c32080bac765\",\"publish\":true}],\"uri\":\"/repositories/2/archival_objects/182354\",\"repository\":{\"ref\":\"/repositories/2\"},\"resource\":{\"ref\":\"/repositories/2/resources/365\"},\"parent\":{\"ref\":\"/repositories/2/archival_objects/181925\"},\"has_unpublished_ancestor\":false}',\n",
       "   'jsonmodel_type': 'archival_object',\n",
       "   'label_enum_s': ['creation'],\n",
       "   'last_modified_by': 'admin',\n",
       "   'level': 'series',\n",
       "   'level_enum_s': ['series'],\n",
       "   'notes': '<extent unit=\"linear feet\">22.71</extent><extent></extent> General Physical Description note physdesc 911577eb400601427e2594519942ceab  Scope and Contents note Consists of Washington Loan and Trust trust department account ledgers and paper files, estate files, a trust department real estate holdings ledger, and trust department and committee minutes.\\n\\n scopecontent 2f02625bcbab98c5baf5c32080bac765',\n",
       "   'primary_type': 'archival_object',\n",
       "   'publish': True,\n",
       "   'repository': '/repositories/2',\n",
       "   'resource': '/repositories/2/resources/365',\n",
       "   'source_enum_s': ['Archivists Toolkit Database::RESOURCE_COMPONENT'],\n",
       "   'summary': 'Consists of Washington Loan and Trust trust department account ledgers and paper files, estate files, a trust department real estate holdings ledger, and trust department and committee minutes.',\n",
       "   'suppressed': False,\n",
       "   'system_generated': False,\n",
       "   'system_mtime': '2017-10-17T12:26:56Z',\n",
       "   'title': 'Trust, 1892-1952',\n",
       "   'type_enum_s': ['physdesc'],\n",
       "   'types': ['archival_object'],\n",
       "   'uri': '/repositories/2/archival_objects/182354',\n",
       "   'user_mtime': '2016-07-06T00:44:23Z'},\n",
       "  {'create_time': '2016-07-06T04:16:37Z',\n",
       "   'created_by': 'admin',\n",
       "   'date_type_enum_s': ['single'],\n",
       "   'external_id': ['158367'],\n",
       "   'id': '/repositories/2/archival_objects/287918',\n",
       "   'json': '{\"lock_version\":0,\"position\":11,\"publish\":true,\"ref_id\":\"ref236_ar6\",\"component_id\":\"RG0008 Series 12\",\"title\":\"Financial records\",\"display_string\":\"Financial records, 1982-1990\",\"restrictions_apply\":false,\"created_by\":\"admin\",\"last_modified_by\":\"admin\",\"create_time\":\"2016-07-06T04:16:37Z\",\"system_mtime\":\"2017-10-17T12:26:56Z\",\"user_mtime\":\"2016-07-06T04:16:37Z\",\"suppressed\":false,\"level\":\"series\",\"jsonmodel_type\":\"archival_object\",\"external_ids\":[{\"external_id\":\"158367\",\"source\":\"Archivists Toolkit Database::RESOURCE_COMPONENT\",\"created_by\":\"admin\",\"last_modified_by\":\"admin\",\"create_time\":\"2016-07-06T04:16:37Z\",\"system_mtime\":\"2016-07-06T04:16:37Z\",\"user_mtime\":\"2016-07-06T04:16:37Z\",\"jsonmodel_type\":\"external_id\"}],\"subjects\":[],\"linked_events\":[],\"extents\":[],\"dates\":[{\"lock_version\":0,\"expression\":\"1982-1990\",\"created_by\":\"admin\",\"last_modified_by\":\"admin\",\"create_time\":\"2016-07-06T04:16:37Z\",\"system_mtime\":\"2016-07-06T04:16:37Z\",\"user_mtime\":\"2016-07-06T04:16:37Z\",\"date_type\":\"single\",\"label\":\"creation\",\"jsonmodel_type\":\"date\"}],\"external_documents\":[],\"rights_statements\":[],\"linked_agents\":[],\"instances\":[],\"notes\":[{\"content\":[\"13.5 Linear feet\"],\"jsonmodel_type\":\"note_singlepart\",\"label\":\"General Physical Description note\",\"type\":\"physdesc\",\"persistent_id\":\"6a10bfc855394e6fcd0e4a48eabc0af5\",\"publish\":true},{\"jsonmodel_type\":\"note_multipart\",\"label\":\"Scope and Contents note\",\"subnotes\":[{\"content\":\"This series contains records related to the Burns Clinic expansion, Square 250 leases/construction, 1925 F Street, 2000 Penn. Avenue taxes, and other real estate holdings. These records cover the dates 1982-90.\\\\n\\\\nFormerly ACC#566.\\\\n\\\\n\",\"jsonmodel_type\":\"note_text\",\"publish\":true}],\"type\":\"scopecontent\",\"persistent_id\":\"0a10c7b60d040100c36687c7dccd46ed\",\"publish\":true}],\"uri\":\"/repositories/2/archival_objects/287918\",\"repository\":{\"ref\":\"/repositories/2\"},\"resource\":{\"ref\":\"/repositories/2/resources/568\"},\"has_unpublished_ancestor\":false}',\n",
       "   'jsonmodel_type': 'archival_object',\n",
       "   'label_enum_s': ['creation'],\n",
       "   'last_modified_by': 'admin',\n",
       "   'level': 'series',\n",
       "   'level_enum_s': ['series'],\n",
       "   'notes': '13.5 Linear feet General Physical Description note physdesc 6a10bfc855394e6fcd0e4a48eabc0af5  Scope and Contents note This series contains records related to the Burns Clinic expansion, Square 250 leases/construction, 1925 F Street, 2000 Penn. Avenue taxes, and other real estate holdings. These records cover the dates 1982-90.\\n\\nFormerly ACC#566.\\n\\n scopecontent 0a10c7b60d040100c36687c7dccd46ed',\n",
       "   'primary_type': 'archival_object',\n",
       "   'publish': True,\n",
       "   'repository': '/repositories/2',\n",
       "   'resource': '/repositories/2/resources/568',\n",
       "   'source_enum_s': ['Archivists Toolkit Database::RESOURCE_COMPONENT'],\n",
       "   'summary': 'This series contains records related to the Burns Clinic expansion, Square 250 leases/construction, 1925 F Street, 2000 Penn. Avenue taxes, and other real estate holdings. These records cover the dates 1982-90.\\n\\nFormerly ACC#566.',\n",
       "   'suppressed': False,\n",
       "   'system_generated': False,\n",
       "   'system_mtime': '2017-10-17T12:26:56Z',\n",
       "   'title': 'Financial records, 1982-1990',\n",
       "   'type_enum_s': ['physdesc'],\n",
       "   'types': ['archival_object'],\n",
       "   'uri': '/repositories/2/archival_objects/287918',\n",
       "   'user_mtime': '2016-07-06T04:16:37Z'},\n",
       "  {'create_time': '2016-07-06T06:02:42Z',\n",
       "   'created_by': 'admin',\n",
       "   'date_type_enum_s': ['single'],\n",
       "   'external_id': ['172899'],\n",
       "   'id': '/repositories/2/archival_objects/337926',\n",
       "   'json': '{\"lock_version\":0,\"position\":1,\"publish\":true,\"ref_id\":\"ref58_n8s\",\"component_id\":\"RG0106 Series 2\",\"title\":\"Television News Study Center and projects\",\"display_string\":\"Television News Study Center and projects, 1975 ca.-1987\",\"restrictions_apply\":false,\"created_by\":\"admin\",\"last_modified_by\":\"admin\",\"create_time\":\"2016-07-06T06:02:42Z\",\"system_mtime\":\"2017-10-17T12:26:56Z\",\"user_mtime\":\"2016-07-06T06:02:42Z\",\"suppressed\":false,\"level\":\"series\",\"jsonmodel_type\":\"archival_object\",\"external_ids\":[{\"external_id\":\"172899\",\"source\":\"Archivists Toolkit Database::RESOURCE_COMPONENT\",\"created_by\":\"admin\",\"last_modified_by\":\"admin\",\"create_time\":\"2016-07-06T06:02:42Z\",\"system_mtime\":\"2016-07-06T06:02:42Z\",\"user_mtime\":\"2016-07-06T06:02:42Z\",\"jsonmodel_type\":\"external_id\"}],\"subjects\":[],\"linked_events\":[],\"extents\":[],\"dates\":[{\"lock_version\":0,\"expression\":\"1975 ca.-1987\",\"created_by\":\"admin\",\"last_modified_by\":\"admin\",\"create_time\":\"2016-07-06T06:02:42Z\",\"system_mtime\":\"2016-07-06T06:02:42Z\",\"user_mtime\":\"2016-07-06T06:02:42Z\",\"date_type\":\"single\",\"label\":\"creation\",\"jsonmodel_type\":\"date\"}],\"external_documents\":[],\"rights_statements\":[],\"linked_agents\":[],\"instances\":[],\"notes\":[{\"content\":[\"0.25 Linear feet\"],\"jsonmodel_type\":\"note_singlepart\",\"label\":\"General Physical Description note\",\"type\":\"physdesc\",\"persistent_id\":\"a82fa029e1d341fcfbf659a0491cf004\",\"publish\":true},{\"jsonmodel_type\":\"note_multipart\",\"label\":\"Scope and Contents note\",\"subnotes\":[{\"content\":\"This series contains guides, memorandums, news articles, news releases, an invitation, correspondence, and brochures. The materials range in date from approximately 1975 to 1987. They cover the holdings of the Media Resources Department, transcription projects, and the Television News Study Center. Formerly vertical files\\\\n\\\\n\",\"jsonmodel_type\":\"note_text\",\"publish\":true}],\"type\":\"scopecontent\",\"persistent_id\":\"eddb075c808ccfa8a16c821c115e8803\",\"publish\":true}],\"uri\":\"/repositories/2/archival_objects/337926\",\"repository\":{\"ref\":\"/repositories/2\"},\"resource\":{\"ref\":\"/repositories/2/resources/657\"},\"has_unpublished_ancestor\":false}',\n",
       "   'jsonmodel_type': 'archival_object',\n",
       "   'label_enum_s': ['creation'],\n",
       "   'last_modified_by': 'admin',\n",
       "   'level': 'series',\n",
       "   'level_enum_s': ['series'],\n",
       "   'notes': '0.25 Linear feet General Physical Description note physdesc a82fa029e1d341fcfbf659a0491cf004  Scope and Contents note This series contains guides, memorandums, news articles, news releases, an invitation, correspondence, and brochures. The materials range in date from approximately 1975 to 1987. They cover the holdings of the Media Resources Department, transcription projects, and the Television News Study Center. Formerly vertical files\\n\\n scopecontent eddb075c808ccfa8a16c821c115e8803',\n",
       "   'primary_type': 'archival_object',\n",
       "   'publish': True,\n",
       "   'repository': '/repositories/2',\n",
       "   'resource': '/repositories/2/resources/657',\n",
       "   'source_enum_s': ['Archivists Toolkit Database::RESOURCE_COMPONENT'],\n",
       "   'summary': 'This series contains guides, memorandums, news articles, news releases, an invitation, correspondence, and brochures. The materials range in date from approximately 1975 to 1987. They cover the holdings of the Media Resources Department, transcription projects, and the Television News Study Center. Formerly vertical files',\n",
       "   'suppressed': False,\n",
       "   'system_generated': False,\n",
       "   'system_mtime': '2017-10-17T12:26:56Z',\n",
       "   'title': 'Television News Study Center and projects, 1975 ca.-1987',\n",
       "   'type_enum_s': ['physdesc'],\n",
       "   'types': ['archival_object'],\n",
       "   'uri': '/repositories/2/archival_objects/337926',\n",
       "   'user_mtime': '2016-07-06T06:02:42Z'},\n",
       "  {'create_time': '2016-07-05T22:58:10Z',\n",
       "   'created_by': 'admin',\n",
       "   'date_type_enum_s': ['single'],\n",
       "   'extent_type_enum_s': ['linear_feet'],\n",
       "   'external_id': ['198472'],\n",
       "   'id': '/repositories/2/archival_objects/132225',\n",
       "   'json': '{\"lock_version\":0,\"position\":4,\"publish\":true,\"ref_id\":\"ref31_umn\",\"component_id\":\"Series 5\",\"title\":\"Larry King show\",\"display_string\":\"Larry King show, 1970-ca. 1990\",\"restrictions_apply\":false,\"created_by\":\"admin\",\"last_modified_by\":\"admin\",\"create_time\":\"2016-07-05T22:58:10Z\",\"system_mtime\":\"2017-10-17T12:26:56Z\",\"user_mtime\":\"2016-07-05T22:58:10Z\",\"suppressed\":false,\"level\":\"series\",\"jsonmodel_type\":\"archival_object\",\"external_ids\":[{\"external_id\":\"198472\",\"source\":\"Archivists Toolkit Database::RESOURCE_COMPONENT\",\"created_by\":\"admin\",\"last_modified_by\":\"admin\",\"create_time\":\"2016-07-05T22:58:10Z\",\"system_mtime\":\"2016-07-05T22:58:10Z\",\"user_mtime\":\"2016-07-05T22:58:10Z\",\"jsonmodel_type\":\"external_id\"}],\"subjects\":[],\"linked_events\":[],\"extents\":[{\"lock_version\":0,\"number\":\"112\",\"created_by\":\"admin\",\"last_modified_by\":\"admin\",\"create_time\":\"2016-07-05T22:58:10Z\",\"system_mtime\":\"2016-07-05T22:58:10Z\",\"user_mtime\":\"2016-07-05T22:58:10Z\",\"portion\":\"whole\",\"extent_type\":\"linear_feet\",\"jsonmodel_type\":\"extent\"}],\"dates\":[{\"lock_version\":0,\"expression\":\"1970-ca. 1990\",\"created_by\":\"admin\",\"last_modified_by\":\"admin\",\"create_time\":\"2016-07-05T22:58:10Z\",\"system_mtime\":\"2016-07-05T22:58:10Z\",\"user_mtime\":\"2016-07-05T22:58:10Z\",\"date_type\":\"single\",\"label\":\"creation\",\"jsonmodel_type\":\"date\"}],\"external_documents\":[],\"rights_statements\":[],\"linked_agents\":[],\"instances\":[],\"notes\":[{\"jsonmodel_type\":\"note_multipart\",\"label\":\"bib\",\"subnotes\":[{\"content\":\"bib numbers are at the subseries level.\",\"jsonmodel_type\":\"note_text\",\"publish\":false}],\"type\":\"odd\",\"persistent_id\":\"586cd90a4e02e6422392a578dd3c53dc\",\"publish\":false},{\"jsonmodel_type\":\"note_multipart\",\"label\":\"Processing Information note\",\"subnotes\":[{\"content\":\"10 unprocessed boxes were moved from the Larry King series to the Jim Bohanan series. This was after the existing Larry King tapes were moved and what was left in the boxes were either Jim Bohanan content or unidentified. These boxes were added to holdings 4808203 as UP boxes. The original numberes were retained.\",\"jsonmodel_type\":\"note_text\",\"publish\":false}],\"type\":\"processinfo\",\"persistent_id\":\"d24c40dc5767bb0f117aea9d29b13b39\",\"publish\":false}],\"uri\":\"/repositories/2/archival_objects/132225\",\"repository\":{\"ref\":\"/repositories/2\"},\"resource\":{\"ref\":\"/repositories/2/resources/257\"},\"has_unpublished_ancestor\":false}',\n",
       "   'jsonmodel_type': 'archival_object',\n",
       "   'label_enum_s': ['creation'],\n",
       "   'last_modified_by': 'admin',\n",
       "   'level': 'series',\n",
       "   'level_enum_s': ['series'],\n",
       "   'notes': 'bib bib numbers are at the subseries level. odd 586cd90a4e02e6422392a578dd3c53dc  Processing Information note 10 unprocessed boxes were moved from the Larry King series to the Jim Bohanan series. This was after the existing Larry King tapes were moved and what was left in the boxes were either Jim Bohanan content or unidentified. These boxes were added to holdings 4808203 as UP boxes. The original numberes were retained. processinfo d24c40dc5767bb0f117aea9d29b13b39',\n",
       "   'portion_enum_s': ['whole'],\n",
       "   'primary_type': 'archival_object',\n",
       "   'publish': True,\n",
       "   'repository': '/repositories/2',\n",
       "   'resource': '/repositories/2/resources/257',\n",
       "   'source_enum_s': ['Archivists Toolkit Database::RESOURCE_COMPONENT'],\n",
       "   'suppressed': False,\n",
       "   'system_generated': False,\n",
       "   'system_mtime': '2017-10-17T12:26:56Z',\n",
       "   'title': 'Larry King show, 1970-ca. 1990',\n",
       "   'type_enum_s': ['odd'],\n",
       "   'types': ['archival_object'],\n",
       "   'uri': '/repositories/2/archival_objects/132225',\n",
       "   'user_mtime': '2016-07-05T22:58:10Z'},\n",
       "  {'create_time': '2016-07-06T06:17:13Z',\n",
       "   'created_by': 'admin',\n",
       "   'date_type_enum_s': ['single'],\n",
       "   'extent_type_enum_s': ['linear_feet'],\n",
       "   'external_id': ['529'],\n",
       "   'finding_aid_description_rules_enum_s': ['dacs'],\n",
       "   'finding_aid_title': '',\n",
       "   'four_part_id': 'RG0135',\n",
       "   'id': '/repositories/2/resources/683',\n",
       "   'identifier': 'RG0135',\n",
       "   'json': '{\"lock_version\":2,\"title\":\"Mount Vernon Seminary and College\",\"publish\":false,\"restrictions\":false,\"repository_processing_note\":\"Bib for big backlog taken from basement Webb hall, and subsequent accessions, as well as unprocessed materials left in Gelman as of 2017:11222309\\\\nBib for accession 2015.015: 9426641\\\\nThe Mount Vernon Seminary and College archives were moved to the Gelman Library in May 2009. See General Note for location details. Preliminary inventories for select collections within the Mount Vernon archives are on the J drive:  J:\\\\\\\\Special Collections\\\\\\\\University Archives\\\\\\\\Mount Vernon\\\\\\\\Mt.Vernon Archives\",\"finding_aid_title\":\"\\\\n\",\"finding_aid_author\":\"Special Collections Research Center, The George Washington University\",\"finding_aid_language\":\"Finding aid written in <language encodinganalog=\\\\\"language\\\\\">English</language>\",\"created_by\":\"admin\",\"last_modified_by\":\"christie\",\"create_time\":\"2016-07-06T06:17:13Z\",\"system_mtime\":\"2017-10-17T12:27:24Z\",\"user_mtime\":\"2017-07-12T19:02:20Z\",\"suppressed\":false,\"id_0\":\"RG0135\",\"language\":\"eng\",\"level\":\"collection\",\"finding_aid_description_rules\":\"dacs\",\"jsonmodel_type\":\"resource\",\"external_ids\":[{\"external_id\":\"529\",\"source\":\"Archivists Toolkit Database::RESOURCE\",\"created_by\":\"christie\",\"last_modified_by\":\"christie\",\"create_time\":\"2017-07-12T19:02:20Z\",\"system_mtime\":\"2017-07-12T19:02:20Z\",\"user_mtime\":\"2017-07-12T19:02:20Z\",\"jsonmodel_type\":\"external_id\"}],\"subjects\":[],\"linked_events\":[],\"extents\":[{\"lock_version\":0,\"number\":\"510\",\"created_by\":\"christie\",\"last_modified_by\":\"christie\",\"create_time\":\"2017-07-12T19:02:20Z\",\"system_mtime\":\"2017-07-12T19:02:20Z\",\"user_mtime\":\"2017-07-12T19:02:20Z\",\"portion\":\"whole\",\"extent_type\":\"linear_feet\",\"jsonmodel_type\":\"extent\"}],\"dates\":[{\"lock_version\":0,\"expression\":\"circa 1875-1999\",\"created_by\":\"christie\",\"last_modified_by\":\"christie\",\"create_time\":\"2017-07-12T19:02:20Z\",\"system_mtime\":\"2017-07-12T19:02:20Z\",\"user_mtime\":\"2017-07-12T19:02:20Z\",\"date_type\":\"single\",\"label\":\"creation\",\"jsonmodel_type\":\"date\"}],\"external_documents\":[],\"rights_statements\":[],\"linked_agents\":[],\"revision_statements\":[],\"instances\":[],\"deaccessions\":[],\"related_accessions\":[{\"ref\":\"/repositories/2/accessions/383\"},{\"ref\":\"/repositories/2/accessions/952\"}],\"classifications\":[],\"notes\":[{\"jsonmodel_type\":\"note_multipart\",\"persistent_id\":\"4fb926d1dec83d3d8e3f589e88dc8c29\",\"type\":\"odd\",\"subnotes\":[{\"jsonmodel_type\":\"note_text\",\"content\":\"Back area of 207, near film bench:\\\\n-9 bubble-wrapped framed items\\\\n-1 architectural model of Eckles Library\\\\n-1 wooden altar screen\\\\n-1 Bible stand\\\\n-1 poster tube containing blueprints.\\\\n\\\\nBack area of 207, last range, top shelves:\\\\n-20 bubble-wrapped framed items and plaques\\\\n-1 etching\\\\n-1 rendering of Eckles Library\\\\n-1 over-size panoramic photograph\\\\n\\\\n207, Range 32:\\\\n-94 document boxes\\\\n-14 slim document boxes\\\\n-42 flat and over-size boxes\\\\n-4 prayer rugs, gift of Saudi Arabian Embassy\\\\n-1 portfolio\\\\n-25 Hollinger boxes\\\\n-1 Jewish scroll\\\\n-12 bubble-wrapped framed items\\\\n\\\\nB05C, Row 16B\\\\n-104 Hollinger boxes\\\\n-8 document boxes\\\\n\\\\nB05C, Row 15A\\\\n-36 Hollinger boxes\\\\n-2 plastic boxes of silver \\\\n-6 oversize boxes containing fragile objects (trophies, urns, vases, candlesticks, platters, bowls, etc.)\\\\n\\\\nB05C, Row 11A\\\\n-63 Hollinger boxes\\\\n-2 oversize boxes\\\\n\\\\n\\\\n\",\"publish\":true}],\"publish\":true},{\"jsonmodel_type\":\"note_multipart\",\"persistent_id\":\"d63dd23f68292d17232894232641387f\",\"label\":\"Bib#\",\"type\":\"odd\",\"subnotes\":[{\"jsonmodel_type\":\"note_text\",\"content\":\"This is the bib for all materials that are not assignable to an existing bib.  (this one was listed, but appears to be unrelated to MVC 3052369  jek 4/19/2012)\\\\n\\\\nThe bib to use for the mount vernon boxes coming from the basement of Webb Hall is 11222309  (some may be at this bib 9426641 it is a bit confusing right now)  Some of the boxes from the Webb Hall basement are attached to specific Mount Vernon collections (MVC0031, MVC0047 etc.). There is a paper record with the duplicate barcodes.\\\\n\\\\nAdded to this bib and holdings is the 15 boxes from donation 2015.015. But was put in a separate holdings to retain the box numbering that came with the donation since that is needed for the box lists provided by Nancy Muse. That is holdings # 16468284\",\"publish\":true}],\"publish\":true}],\"uri\":\"/repositories/2/resources/683\",\"repository\":{\"ref\":\"/repositories/2\"},\"tree\":{\"ref\":\"/repositories/2/resources/683/tree\"}}',\n",
       "   'jsonmodel_type': 'resource',\n",
       "   'label_enum_s': ['creation'],\n",
       "   'language': 'eng',\n",
       "   'language_enum_s': ['eng'],\n",
       "   'last_modified_by': 'christie',\n",
       "   'level': 'collection',\n",
       "   'level_enum_s': ['collection'],\n",
       "   'notes': '4fb926d1dec83d3d8e3f589e88dc8c29 odd Back area of 207, near film bench:\\n-9 bubble-wrapped framed items\\n-1 architectural model of Eckles Library\\n-1 wooden altar screen\\n-1 Bible stand\\n-1 poster tube containing blueprints.\\n\\nBack area of 207, last range, top shelves:\\n-20 bubble-wrapped framed items and plaques\\n-1 etching\\n-1 rendering of Eckles Library\\n-1 over-size panoramic photograph\\n\\n207, Range 32:\\n-94 document boxes\\n-14 slim document boxes\\n-42 flat and over-size boxes\\n-4 prayer rugs, gift of Saudi Arabian Embassy\\n-1 portfolio\\n-25 Hollinger boxes\\n-1 Jewish scroll\\n-12 bubble-wrapped framed items\\n\\nB05C, Row 16B\\n-104 Hollinger boxes\\n-8 document boxes\\n\\nB05C, Row 15A\\n-36 Hollinger boxes\\n-2 plastic boxes of silver \\n-6 oversize boxes containing fragile objects (trophies, urns, vases, candlesticks, platters, bowls, etc.)\\n\\nB05C, Row 11A\\n-63 Hollinger boxes\\n-2 oversize boxes\\n\\n\\n  d63dd23f68292d17232894232641387f Bib# odd This is the bib for all materials that are not assignable to an existing bib.  (this one was listed, but appears to be unrelated to MVC 3052369  jek 4/19/2012)\\n\\nThe bib to use for the mount vernon boxes coming from the basement of Webb Hall is 11222309  (some may be at this bib 9426641 it is a bit confusing right now)  Some of the boxes from the Webb Hall basement are attached to specific Mount Vernon collections (MVC0031, MVC0047 etc.). There is a paper record with the duplicate barcodes.\\n\\nAdded to this bib and holdings is the 15 boxes from donation 2015.015. But was put in a separate holdings to retain the box numbering that came with the donation since that is needed for the box lists provided by Nancy Muse. That is holdings # 16468284',\n",
       "   'portion_enum_s': ['whole'],\n",
       "   'primary_type': 'resource',\n",
       "   'publish': False,\n",
       "   'repository': '/repositories/2',\n",
       "   'restrictions': 'false',\n",
       "   'source_enum_s': ['Archivists Toolkit Database::RESOURCE'],\n",
       "   'suppressed': False,\n",
       "   'system_generated': False,\n",
       "   'system_mtime': '2017-10-17T12:27:24Z',\n",
       "   'title': 'Mount Vernon Seminary and College',\n",
       "   'type_enum_s': ['odd'],\n",
       "   'types': ['resource'],\n",
       "   'uri': '/repositories/2/resources/683',\n",
       "   'user_mtime': '2017-07-12T19:02:20Z'},\n",
       "  {'create_time': '2016-07-05T22:58:09Z',\n",
       "   'created_by': 'admin',\n",
       "   'date_type_enum_s': ['single'],\n",
       "   'extent_type_enum_s': ['linear_feet'],\n",
       "   'external_id': ['198452'],\n",
       "   'id': '/repositories/2/archival_objects/132167',\n",
       "   'json': '{\"lock_version\":0,\"position\":2,\"publish\":true,\"ref_id\":\"ref11_8aa\",\"component_id\":\"Series 3\",\"title\":\"Jim Bohannon show\",\"display_string\":\"Jim Bohannon show, 1993-2000\",\"restrictions_apply\":false,\"created_by\":\"admin\",\"last_modified_by\":\"admin\",\"create_time\":\"2016-07-05T22:58:09Z\",\"system_mtime\":\"2017-10-17T12:26:56Z\",\"user_mtime\":\"2016-07-05T22:58:09Z\",\"suppressed\":false,\"level\":\"series\",\"jsonmodel_type\":\"archival_object\",\"external_ids\":[{\"external_id\":\"198452\",\"source\":\"Archivists Toolkit Database::RESOURCE_COMPONENT\",\"created_by\":\"admin\",\"last_modified_by\":\"admin\",\"create_time\":\"2016-07-05T22:58:09Z\",\"system_mtime\":\"2016-07-05T22:58:09Z\",\"user_mtime\":\"2016-07-05T22:58:09Z\",\"jsonmodel_type\":\"external_id\"}],\"subjects\":[],\"linked_events\":[],\"extents\":[{\"lock_version\":0,\"number\":\"57\",\"created_by\":\"admin\",\"last_modified_by\":\"admin\",\"create_time\":\"2016-07-05T22:58:09Z\",\"system_mtime\":\"2016-07-05T22:58:09Z\",\"user_mtime\":\"2016-07-05T22:58:09Z\",\"portion\":\"whole\",\"extent_type\":\"linear_feet\",\"jsonmodel_type\":\"extent\"}],\"dates\":[{\"lock_version\":0,\"expression\":\"1993-2000\",\"created_by\":\"admin\",\"last_modified_by\":\"admin\",\"create_time\":\"2016-07-05T22:58:09Z\",\"system_mtime\":\"2016-07-05T22:58:09Z\",\"user_mtime\":\"2016-07-05T22:58:09Z\",\"date_type\":\"single\",\"label\":\"creation\",\"jsonmodel_type\":\"date\"}],\"external_documents\":[],\"rights_statements\":[],\"linked_agents\":[],\"instances\":[],\"notes\":[{\"jsonmodel_type\":\"note_multipart\",\"subnotes\":[{\"content\":\"Bohannon substituted for Larry King numerous times and took over the show eventually.\",\"jsonmodel_type\":\"note_text\",\"publish\":true}],\"type\":\"bioghist\",\"persistent_id\":\"f38f60226d06f9c3aa541b6bb127ca08\",\"publish\":true},{\"jsonmodel_type\":\"note_multipart\",\"label\":\"Processing Information note\",\"subnotes\":[{\"content\":\"10 unprocessed boxes were moved from the Larry King series to the Jim Bohanan series. This was after the existing Larry King tapes were moved and what was left in the boxes were either Jim Bohanan content or unidentified. These boxes were added to holdings 4808203 as UP boxes. The original numberes were retained.\",\"jsonmodel_type\":\"note_text\",\"publish\":false}],\"type\":\"processinfo\",\"persistent_id\":\"cc7e8c3ed9a764b1aeb8f7bbf7592b4e\",\"publish\":false},{\"jsonmodel_type\":\"note_multipart\",\"label\":\"bib\",\"subnotes\":[{\"content\":\"3779504\",\"jsonmodel_type\":\"note_text\",\"publish\":false}],\"type\":\"odd\",\"persistent_id\":\"0dd0a33631c2b5db91651f7283a75ffc\",\"publish\":false},{\"jsonmodel_type\":\"note_multipart\",\"subnotes\":[{\"content\":\"Some tapes were previously mixed in with those of the Larry King show.\",\"jsonmodel_type\":\"note_text\",\"publish\":true}],\"type\":\"scopecontent\",\"persistent_id\":\"8f9548cda8186e20948f65223795662c\",\"publish\":true}],\"uri\":\"/repositories/2/archival_objects/132167\",\"repository\":{\"ref\":\"/repositories/2\"},\"resource\":{\"ref\":\"/repositories/2/resources/257\"},\"has_unpublished_ancestor\":false}',\n",
       "   'jsonmodel_type': 'archival_object',\n",
       "   'label_enum_s': ['creation'],\n",
       "   'last_modified_by': 'admin',\n",
       "   'level': 'series',\n",
       "   'level_enum_s': ['series'],\n",
       "   'notes': 'Bohannon substituted for Larry King numerous times and took over the show eventually. bioghist f38f60226d06f9c3aa541b6bb127ca08  Processing Information note 10 unprocessed boxes were moved from the Larry King series to the Jim Bohanan series. This was after the existing Larry King tapes were moved and what was left in the boxes were either Jim Bohanan content or unidentified. These boxes were added to holdings 4808203 as UP boxes. The original numberes were retained. processinfo cc7e8c3ed9a764b1aeb8f7bbf7592b4e  bib 3779504 odd 0dd0a33631c2b5db91651f7283a75ffc  Some tapes were previously mixed in with those of the Larry King show. scopecontent 8f9548cda8186e20948f65223795662c',\n",
       "   'portion_enum_s': ['whole'],\n",
       "   'primary_type': 'archival_object',\n",
       "   'publish': True,\n",
       "   'repository': '/repositories/2',\n",
       "   'resource': '/repositories/2/resources/257',\n",
       "   'source_enum_s': ['Archivists Toolkit Database::RESOURCE_COMPONENT'],\n",
       "   'summary': 'Some tapes were previously mixed in with those of the Larry King show.',\n",
       "   'suppressed': False,\n",
       "   'system_generated': False,\n",
       "   'system_mtime': '2017-10-17T12:26:56Z',\n",
       "   'title': 'Jim Bohannon show, 1993-2000',\n",
       "   'type_enum_s': ['bioghist'],\n",
       "   'types': ['archival_object'],\n",
       "   'uri': '/repositories/2/archival_objects/132167',\n",
       "   'user_mtime': '2016-07-05T22:58:09Z'}],\n",
       " 'this_page': 1,\n",
       " 'total_hits': 51}"
      ]
     },
     "execution_count": 84,
     "metadata": {},
     "output_type": "execute_result"
    }
   ],
   "source": [
    "# CHANGE YOUR SEARCH TERM HERE!\n",
    "q = 'holdings'\n",
    "\n",
    "# Here is the actual search we're sending to ArchivesSpace!\n",
    "# First we set up the crazy complicated URL for an advanced query of the \"notes\" field.\n",
    "endpoint = '/repositories/2/search?page=1&aq={\"query\":{\"field\":\"notes\",\"value\":\"' + q + '\", \"jsonmodel_type\":\"field_query\",\"negated\":false,\"literal\":true}}'\n",
    "# Then we send that search up to ArchivesSpace\n",
    "results = requests.get(HOST + endpoint, headers=headers)\n",
    "# Make sure our python script knows to read the results as JSON\n",
    "results=results.json()\n",
    "# Print the results below so we can take a peak. \n",
    "results\n"
   ]
  },
  {
   "cell_type": "code",
   "execution_count": 86,
   "metadata": {
    "collapsed": true
   },
   "outputs": [],
   "source": [
    "# The results include a bunch of facet information, which we want to skip. \n",
    "# We'll have to recombine this above once we start paginating.\n",
    "results=results['results']"
   ]
  },
  {
   "cell_type": "markdown",
   "metadata": {},
   "source": [
    "## Print results to a CSV file. It's kinda messy business."
   ]
  },
  {
   "cell_type": "code",
   "execution_count": 87,
   "metadata": {
    "collapsed": false
   },
   "outputs": [
    {
     "data": {
      "text/plain": [
       "68"
      ]
     },
     "execution_count": 87,
     "metadata": {},
     "output_type": "execute_result"
    }
   ],
   "source": [
    "# Set things up so the filename is based on your search term\n",
    "filename = \"search_for_\" + q + \".csv\"\n",
    "\n",
    "# Create and open the file\n",
    "f=csv.writer(open(filename, 'w'),delimiter=',')\n",
    "\n",
    "#Create the first row of column headers\n",
    "f.writerow(['uri','title','identifier','external_id','record_type','note_with_search_term','note_type'])"
   ]
  },
  {
   "cell_type": "code",
   "execution_count": 94,
   "metadata": {
    "collapsed": false
   },
   "outputs": [],
   "source": [
    "# Add all the data!\n",
    "# For each record returned by the search above . . . \n",
    "for result in results:\n",
    "    # Define all the fields that you'd like put into the CSV. \n",
    "    uri = result.get('uri')\n",
    "    title = result.get('title')\n",
    "    identifier = result.get('identifier')\n",
    "    external_id = result.get('external_id')\n",
    "    record_type = result.get('types')\n",
    "    aspace_json = json.loads(result.get('json'))\n",
    "    # Below, we are making the assumption that each record will have the search term in only one note, \n",
    "    # and each multi-part note actually only has one subnote \n",
    "    # This returns the content of the first note that has the search term.\n",
    "    notes = aspace_json['notes']\n",
    "    for note in notes:\n",
    "        try:\n",
    "            subnotes = note.get('subnotes')\n",
    "            content = subnotes[0]['content']\n",
    "            note_type = note['type']\n",
    "        except:\n",
    "            content = note['content'][0]\n",
    "            note_type = note['type']\n",
    "        if q in content:\n",
    "            note_with_search_term = content\n",
    "    f.writerow([uri,title,identifier,external_id,record_type,note_with_search_term,note_type])"
   ]
  },
  {
   "cell_type": "markdown",
   "metadata": {},
   "source": [
    "# ASpace search queries that didn't work. "
   ]
  },
  {
   "cell_type": "code",
   "execution_count": 23,
   "metadata": {
    "collapsed": false
   },
   "outputs": [
    {
     "data": {
      "text/plain": [
       "<Response [400]>"
      ]
     },
     "execution_count": 23,
     "metadata": {},
     "output_type": "execute_result"
    }
   ],
   "source": [
    "query=\"q:Anything\"\n",
    "search = requests.get(HOST + '/search?', headers=headers, data=query)\n",
    "search"
   ]
  },
  {
   "cell_type": "code",
   "execution_count": 24,
   "metadata": {
    "collapsed": false
   },
   "outputs": [
    {
     "data": {
      "text/plain": [
       "<Response [403]>"
      ]
     },
     "execution_count": 24,
     "metadata": {},
     "output_type": "execute_result"
    }
   ],
   "source": [
    "endpoint = '/search?page=1&page_size=1&q=\"/repositories/2\"'\n",
    "\n",
    "results = requests.get(HOST + endpoint, headers=headers)\n",
    "results"
   ]
  }
 ],
 "metadata": {
  "kernelspec": {
   "display_name": "Python 3",
   "language": "python",
   "name": "python3"
  },
  "language_info": {
   "codemirror_mode": {
    "name": "ipython",
    "version": 3
   },
   "file_extension": ".py",
   "mimetype": "text/x-python",
   "name": "python",
   "nbconvert_exporter": "python",
   "pygments_lexer": "ipython3",
   "version": "3.5.1"
  }
 },
 "nbformat": 4,
 "nbformat_minor": 0
}
