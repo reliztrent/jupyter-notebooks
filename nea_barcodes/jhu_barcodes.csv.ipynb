{
 "cells": [
  {
   "cell_type": "code",
   "execution_count": null,
   "metadata": {
    "collapsed": true
   },
   "outputs": [],
   "source": [
    "uri\tfaux\treal\n",
    "/repositories/2/top_containers/1\taspace.60240.box.1\t31151030055580\n",
    "/repositories/2/top_containers/2\taspace.60240.box.2\t31151030055581\n",
    "/repositories/2/top_containers/3\taspace.60240.box.3\t31151030055582\n",
    "/repositories/2/top_containers/4\taspace.60240.box.4\t31151030055587\n",
    "/repositories/2/top_containers/5\taspace.60240.box.5\t31151030055585\n",
    "/repositories/2/top_containers/6\taspace.60240.box.6\t31151030055588​"
   ]
  }
 ],
 "metadata": {
  "kernelspec": {
   "display_name": "Python 2",
   "language": "python",
   "name": "python2"
  },
  "language_info": {
   "codemirror_mode": {
    "name": "ipython",
    "version": 2
   },
   "file_extension": ".py",
   "mimetype": "text/x-python",
   "name": "python",
   "nbconvert_exporter": "python",
   "pygments_lexer": "ipython2",
   "version": "2.7.11"
  }
 },
 "nbformat": 4,
 "nbformat_minor": 2
}
