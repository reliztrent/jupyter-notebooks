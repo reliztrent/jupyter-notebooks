{
 "cells": [
  {
   "cell_type": "code",
   "execution_count": null,
   "metadata": {
    "collapsed": true
   },
   "outputs": [],
   "source": [
    "import json, requests, secrets, time, csv, os\n",
    "\n",
    "startTime = time.time()\n",
    "\n",
    "# import secrets\n",
    "baseURL = secrets.baseURL\n",
    "user = secrets.user\n",
    "password = secrets.password\n",
    "\n",
    "#authenticate\n",
    "auth = requests.post(baseURL + '/users/'+user+'/login?password='+password).json()\n",
    "session = auth[\"session\"]\n",
    "headers = {'X-ArchivesSpace-Session':session, 'Content_Type':'application/json'}\n",
    "\n",
    "# test for successful connection\n",
    "def test_connection():\n",
    "\ttry:\n",
    "\t\trequests.get(baseURL)\n",
    "\t\tprint 'Connected!'\n",
    "\t\treturn True\n",
    "\n",
    "\texcept requests.exceptions.ConnectionError:\n",
    "\t\tprint 'Connection error. Please confirm ArchivesSpace is running.  Trying again in 10 seconds.'\n",
    "\n",
    "is_connected = test_connection()\n",
    "\n",
    "while not is_connected:\n",
    "\ttime.sleep(10)\n",
    "\tis_connected = test_connection()\n",
    "\n",
    "# print instructions\n",
    "print 'This script replaces existing fauxcodes with real barcodes (linked in a separate csv file) in ArchivesSpace.'\n",
    "raw_input('Press Enter to continue...')\n",
    "\n",
    "# open csv and generate dict\n",
    "reader = csv.DictReader(open('barcodes.csv'))\n",
    "\n",
    "# GET each top_container listed in top_containers and add to records\n",
    "print 'The following barcodes have been updated in ArchivesSpace:'\n",
    "for row in reader:\n",
    "\turi = row['uri']\n",
    "\toutput = requests.get(baseURL + uri, headers=headers).json()\n",
    "\toutput['barcode'] = row['real']\n",
    "\tpost = requests.post(baseURL + uri, headers=headers, data=json.dumps(output)).json()\n",
    "\tprint post\n",
    "\n",
    "# show script runtime\n",
    "elapsedTime = time.time() - startTime\n",
    "m, s = divmod(elapsedTime, 60)\n",
    "h, m = divmod(m, 60)\n",
    "print 'Post complete.  Total script run time: ', '%d:%02d:%02d' % (h, m, s)"
   ]
  }
 ],
 "metadata": {
  "kernelspec": {
   "display_name": "Python 2",
   "language": "python",
   "name": "python2"
  },
  "language_info": {
   "codemirror_mode": {
    "name": "ipython",
    "version": 2
   },
   "file_extension": ".py",
   "mimetype": "text/x-python",
   "name": "python",
   "nbconvert_exporter": "python",
   "pygments_lexer": "ipython2",
   "version": "2.7.11"
  }
 },
 "nbformat": 4,
 "nbformat_minor": 2
}
