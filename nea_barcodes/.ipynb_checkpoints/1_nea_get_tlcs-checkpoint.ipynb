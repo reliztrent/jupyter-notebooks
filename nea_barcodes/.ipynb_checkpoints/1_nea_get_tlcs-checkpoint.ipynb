{
 "cells": [
  {
   "cell_type": "code",
   "execution_count": 1,
   "metadata": {
    "collapsed": true
   },
   "outputs": [],
   "source": [
    "import requests\n",
    "import json"
   ]
  },
  {
   "cell_type": "markdown",
   "metadata": {
    "collapsed": true
   },
   "source": [
    "# Change these"
   ]
  },
  {
   "cell_type": "code",
   "execution_count": 2,
   "metadata": {
    "collapsed": true
   },
   "outputs": [],
   "source": [
    "USER = ''\n",
    "PASS = ''\n",
    "HOST = 'http://gwaspace-test.wrlc.org:8089/'"
   ]
  },
  {
   "cell_type": "code",
   "execution_count": 9,
   "metadata": {
    "collapsed": true
   },
   "outputs": [],
   "source": [
    "LAST_PAGE = 3\n",
    "PAGE_SIZE = 2"
   ]
  },
  {
   "cell_type": "markdown",
   "metadata": {},
   "source": [
    "# Don't need to change anything below this comment"
   ]
  },
  {
   "cell_type": "code",
   "execution_count": 10,
   "metadata": {
    "collapsed": true
   },
   "outputs": [],
   "source": [
    "# Here's our authentication function. It will return a session\n",
    "# token if it works, or the value False if if doesn't"
   ]
  },
  {
   "cell_type": "code",
   "execution_count": 11,
   "metadata": {
    "collapsed": false
   },
   "outputs": [
    {
     "name": "stdout",
     "output_type": "stream",
     "text": [
      "{'X-ArchivesSpace-Session': '3e220db9e5f35babde230dc9e5696d995532cb6592b8e6ce742b733e23242bca'}\n"
     ]
    }
   ],
   "source": [
    "def aspace_auth(host, username, password):\n",
    "    auth = requests.post(host + '/users/' + username + '/login',\n",
    "                        params={'password' : password})\n",
    "    if auth.status_code == 200:\n",
    "        token = auth.json()['session']\n",
    "        headers = {'X-ArchivesSpace-Session': token}\n",
    "        return(headers)\n",
    "    else:\n",
    "        return(False)\n",
    "\n",
    "headers = aspace_auth(HOST, USER, PASS)\n",
    "print(headers)"
   ]
  },
  {
   "cell_type": "markdown",
   "metadata": {},
   "source": [
    "OK, let's get those empty containers!\n",
    "\n",
    "We'll sart on page 1\n",
    "\n",
    "While this condition is true (1 is less than or equal to the value of LAST_PAGE)\n",
    "\n",
    "the value of page and page size each time."
   ]
  },
  {
   "cell_type": "code",
   "execution_count": 12,
   "metadata": {
    "collapsed": false
   },
   "outputs": [
    {
     "name": "stdout",
     "output_type": "stream",
     "text": [
      "Got result page: http://gwaspace-test.wrlc.org:8089//repositories/2/top_containers?page=1&page_size=2\n",
      "{'restricted': False, 'active_restrictions': [], 'user_mtime': '2017-10-17T12:28:46Z', 'last_modified_by': 'admin', 'system_mtime': '2017-10-17T12:28:46Z', 'indicator': '2007.007', 'type': 'item', 'long_display_string': '2007.007, Item 2007.007', 'display_string': 'Item 2007.007', 'created_by': 'admin', 'repository': {'ref': '/repositories/2'}, 'jsonmodel_type': 'top_container', 'series': [], 'create_time': '2017-10-17T12:28:46Z', 'uri': '/repositories/2/top_containers/1', 'lock_version': 1, 'collection': [{'display_string': 'MS2208 Lois Schworer', 'identifier': '2007.007', 'ref': '/repositories/2/accessions/116'}], 'container_locations': [{'start_date': '2016-07-05', 'jsonmodel_type': 'container_location', 'user_mtime': '2017-10-17 12:28:46 UTC', 'ref': '/locations/2080', 'note': 'porcelain busts', 'system_mtime': '2017-10-17 12:28:46 UTC', 'status': 'current'}]}\n",
      "{'restricted': False, 'active_restrictions': [], 'user_mtime': '2017-10-17T12:28:46Z', 'last_modified_by': 'admin', 'system_mtime': '2017-10-17T12:28:46Z', 'indicator': '2007.009', 'type': 'item', 'long_display_string': '2007.009, Item 2007.009', 'display_string': 'Item 2007.009', 'created_by': 'admin', 'repository': {'ref': '/repositories/2'}, 'jsonmodel_type': 'top_container', 'series': [], 'create_time': '2017-10-17T12:28:46Z', 'uri': '/repositories/2/top_containers/2', 'lock_version': 1, 'collection': [{'display_string': 'RG0055 Lisner posters, memorabilia cup and t-shirt', 'identifier': '2007.009', 'ref': '/repositories/2/accessions/183'}], 'container_locations': [{'start_date': '2016-07-05', 'jsonmodel_type': 'container_location', 'user_mtime': '2017-10-17 12:28:46 UTC', 'ref': '/locations/1989', 'system_mtime': '2017-10-17 12:28:46 UTC', 'status': 'current'}]}\n",
      "Got result page: http://gwaspace-test.wrlc.org:8089//repositories/2/top_containers?page=2&page_size=2\n",
      "{'restricted': False, 'active_restrictions': [], 'user_mtime': '2017-10-17T12:28:47Z', 'last_modified_by': 'admin', 'system_mtime': '2017-10-17T12:28:47Z', 'indicator': '2007.057', 'type': 'item', 'long_display_string': '2007.057, Item 2007.057', 'display_string': 'Item 2007.057', 'created_by': 'admin', 'repository': {'ref': '/repositories/2'}, 'jsonmodel_type': 'top_container', 'series': [], 'create_time': '2017-10-17T12:28:47Z', 'uri': '/repositories/2/top_containers/3', 'lock_version': 1, 'collection': [{'display_string': 'MS2079 American Association of University Professors records', 'identifier': '2007.057', 'ref': '/repositories/2/accessions/251'}], 'container_locations': [{'start_date': '2016-07-05', 'jsonmodel_type': 'container_location', 'user_mtime': '2017-10-17 12:28:47 UTC', 'ref': '/locations/247', 'system_mtime': '2017-10-17 12:28:47 UTC', 'status': 'current'}]}\n",
      "{'restricted': False, 'active_restrictions': [], 'user_mtime': '2017-10-17T12:28:47Z', 'last_modified_by': 'admin', 'system_mtime': '2017-10-17T12:28:47Z', 'indicator': '2007.057', 'type': 'item', 'long_display_string': '2007.057, Item 2007.057', 'display_string': 'Item 2007.057', 'created_by': 'admin', 'repository': {'ref': '/repositories/2'}, 'jsonmodel_type': 'top_container', 'series': [], 'create_time': '2017-10-17T12:28:47Z', 'uri': '/repositories/2/top_containers/4', 'lock_version': 1, 'collection': [{'display_string': 'MS2079 American Association of University Professors records', 'identifier': '2007.057', 'ref': '/repositories/2/accessions/251'}], 'container_locations': [{'start_date': '2016-07-05', 'jsonmodel_type': 'container_location', 'user_mtime': '2017-10-17 12:28:47 UTC', 'ref': '/locations/246', 'system_mtime': '2017-10-17 12:28:47 UTC', 'status': 'current'}]}\n",
      "Got result page: http://gwaspace-test.wrlc.org:8089//repositories/2/top_containers?page=3&page_size=2\n",
      "{'restricted': False, 'active_restrictions': [], 'user_mtime': '2017-10-17T12:28:47Z', 'last_modified_by': 'admin', 'system_mtime': '2017-10-17T12:28:47Z', 'indicator': '2007.057', 'type': 'item', 'long_display_string': '2007.057, Item 2007.057', 'display_string': 'Item 2007.057', 'created_by': 'admin', 'repository': {'ref': '/repositories/2'}, 'jsonmodel_type': 'top_container', 'series': [], 'create_time': '2017-10-17T12:28:47Z', 'uri': '/repositories/2/top_containers/5', 'lock_version': 1, 'collection': [{'display_string': 'MS2079 American Association of University Professors records', 'identifier': '2007.057', 'ref': '/repositories/2/accessions/251'}], 'container_locations': [{'start_date': '2016-07-05', 'jsonmodel_type': 'container_location', 'user_mtime': '2017-10-17 12:28:47 UTC', 'ref': '/locations/245', 'system_mtime': '2017-10-17 12:28:47 UTC', 'status': 'current'}]}\n",
      "{'restricted': False, 'active_restrictions': [], 'user_mtime': '2017-10-17T12:28:47Z', 'last_modified_by': 'admin', 'system_mtime': '2017-10-17T12:28:48Z', 'indicator': '2007.057', 'type': 'item', 'long_display_string': '2007.057, Item 2007.057', 'display_string': 'Item 2007.057', 'created_by': 'admin', 'repository': {'ref': '/repositories/2'}, 'jsonmodel_type': 'top_container', 'series': [], 'create_time': '2017-10-17T12:28:47Z', 'uri': '/repositories/2/top_containers/6', 'lock_version': 1, 'collection': [{'display_string': 'MS2079 American Association of University Professors records', 'identifier': '2007.057', 'ref': '/repositories/2/accessions/251'}], 'container_locations': [{'start_date': '2016-07-05', 'jsonmodel_type': 'container_location', 'user_mtime': '2017-10-17 12:28:47 UTC', 'ref': '/locations/232', 'system_mtime': '2017-10-17 12:28:47 UTC', 'status': 'current'}]}\n"
     ]
    }
   ],
   "source": [
    "#Reset page to \"1\"\n",
    "page = 1\n",
    "\n",
    "#While page is less than whatever you entered above as the value for \"LAST_PAGE\"\n",
    "while page <= LAST_PAGE:\n",
    "    # Get a page of containers, notice how we're filling in\n",
    "    # the value of page and page size each time.\n",
    "    container_req = requests.get(HOST +'/repositories/2/top_containers?page='\n",
    "                                 + str(page)\n",
    "                                 + '&page_size=' \n",
    "                                 + str(PAGE_SIZE),\n",
    "                                 headers=headers)\n",
    "    \n",
    "    # I put this in so there's some output and we don't get\n",
    "    # too impatient\n",
    "    if container_req.status_code <= 299:\n",
    "        print(\"Got result page: \" + container_req.url)\n",
    "    \n",
    "    # We're interested in the results\n",
    "    containers = container_req.json()['results']\n",
    "    \n",
    "    # Create a blank list, later for the URIs \n",
    "    # of all NEA top level containers\n",
    "    tlc_uri = []\n",
    "    \n",
    "    # We'll open a file to write our empty continers to\n",
    "    fh = open('nea_containers.jsonl', 'a')\n",
    "    \n",
    "    # We'll do our filter for each set of results\n",
    "    for container in containers:\n",
    "        # If the container is linked to any records, \n",
    "        # it'll have some value in \"collection\" field\n",
    "        if container['collection'] != []:\n",
    "            # Set collection to equal the display string \n",
    "            # of the container's first collection\n",
    "            collection = container['collection'][0]['display_string']\n",
    "            # If that includes the words \"National Education Association\"\n",
    "            if \"e\" in collection:\n",
    "                # Print the container json to the terminal window\n",
    "                print (container)\n",
    "                # Add the container json to your file\n",
    "                #tlc_uri.append(container)\n",
    "                #print (tlc_uri)\n",
    "                fh.write(json.dumps(container) + '\\n')\n",
    "    \n",
    "    # finally, add 1 to the page so the next time the loop\n",
    "    # runs it will get the next page\n",
    "    page = page + 1"
   ]
  },
  {
   "cell_type": "code",
   "execution_count": null,
   "metadata": {
    "collapsed": true
   },
   "outputs": [],
   "source": []
  }
 ],
 "metadata": {
  "kernelspec": {
   "display_name": "Python 3",
   "language": "python",
   "name": "python3"
  },
  "language_info": {
   "codemirror_mode": {
    "name": "ipython",
    "version": 3
   },
   "file_extension": ".py",
   "mimetype": "text/x-python",
   "name": "python",
   "nbconvert_exporter": "python",
   "pygments_lexer": "ipython3",
   "version": "3.5.1"
  }
 },
 "nbformat": 4,
 "nbformat_minor": 2
}
