{
 "cells": [
  {
   "cell_type": "code",
   "execution_count": 1,
   "metadata": {
    "collapsed": true
   },
   "outputs": [],
   "source": [
    "import pysolr\n",
    "import pandas as pd"
   ]
  },
  {
   "cell_type": "code",
   "execution_count": 2,
   "metadata": {
    "collapsed": true
   },
   "outputs": [],
   "source": [
    "# Need to use the URL sans hash mark\n",
    "# Per this question: https://stackoverflow.com/questions/43854546/pysolr-i-continually-get-json-decoder-error-when-attempting-a-query\n",
    "solr = pysolr.Solr('http://gwfedora-test2.wrlc.org:8983/solr/scholarspace')"
   ]
  },
  {
   "cell_type": "code",
   "execution_count": 9,
   "metadata": {
    "collapsed": true
   },
   "outputs": [],
   "source": [
    "results = solr.search('Batik')"
   ]
  },
  {
   "cell_type": "code",
   "execution_count": 10,
   "metadata": {
    "scrolled": true
   },
   "outputs": [
    {
     "data": {
      "text/plain": [
       "[{'_version_': 1587253731372564480,\n",
       "  'has_model_ssim': ['ActiveFedora::DirectContainer'],\n",
       "  'id': 'gt54kn002/files',\n",
       "  'score': 1.0,\n",
       "  'system_create_dtsi': '2017-11-22T17:12:54Z',\n",
       "  'system_modified_dtsi': '2017-11-22T17:13:07Z',\n",
       "  'timestamp': '2017-12-19T22:38:36.871Z'},\n",
       " {'_version_': 1587253711717007360,\n",
       "  'has_model_ssim': ['ActiveFedora::DirectContainer'],\n",
       "  'id': 's7526c41m/files',\n",
       "  'score': 1.0,\n",
       "  'system_create_dtsi': '2017-11-22T17:06:33Z',\n",
       "  'system_modified_dtsi': '2017-11-22T17:06:41Z',\n",
       "  'timestamp': '2017-12-19T22:38:18.356Z'},\n",
       " {'_version_': 1587253862607093762,\n",
       "  'has_model_ssim': ['ActiveFedora::IndirectContainer'],\n",
       "  'id': '08612n53m/members',\n",
       "  'score': 1.0,\n",
       "  'system_create_dtsi': '2017-11-22T17:06:11Z',\n",
       "  'system_modified_dtsi': '2017-11-22T17:06:11Z',\n",
       "  'timestamp': '2017-12-19T22:40:42.286Z'},\n",
       " {'_version_': 1587253862607093763,\n",
       "  'has_model_ssim': ['ActiveFedora::Aggregation::Proxy'],\n",
       "  'id': '08612n53m/members/3984d8f3-6c11-4cf4-b714-42f71b483def',\n",
       "  'proxyFor_ssim': ['st74cq459'],\n",
       "  'score': 1.0,\n",
       "  'system_create_dtsi': '2017-11-22T17:06:11Z',\n",
       "  'system_modified_dtsi': '2017-11-22T17:06:11Z',\n",
       "  'timestamp': '2017-12-19T22:40:42.286Z'},\n",
       " {'_version_': 1587253876119044097,\n",
       "  'has_model_ssim': ['ActiveFedora::DirectContainer'],\n",
       "  'id': '0g354f213/files',\n",
       "  'score': 1.0,\n",
       "  'system_create_dtsi': '2017-11-22T17:04:12Z',\n",
       "  'system_modified_dtsi': '2017-11-22T17:04:21Z',\n",
       "  'timestamp': '2017-12-19T22:40:55.270Z'},\n",
       " {'_version_': 1587253827821633536,\n",
       "  'has_model_ssim': ['ActiveFedora::DirectContainer'],\n",
       "  'id': '8w32r562g/files',\n",
       "  'score': 1.0,\n",
       "  'system_create_dtsi': '2017-11-22T17:03:16Z',\n",
       "  'system_modified_dtsi': '2017-11-22T17:03:30Z',\n",
       "  'timestamp': '2017-12-19T22:40:09.171Z'},\n",
       " {'_version_': 1587253639228948480,\n",
       "  'has_model_ssim': ['ActiveFedora::DirectContainer'],\n",
       "  'id': 'q524jn774/files',\n",
       "  'score': 1.0,\n",
       "  'system_create_dtsi': '2017-11-23T01:13:04Z',\n",
       "  'system_modified_dtsi': '2017-11-23T01:14:16Z',\n",
       "  'timestamp': '2017-12-19T22:37:08.768Z'},\n",
       " {'_version_': 1587253587344359425,\n",
       "  'has_model_ssim': ['ActiveFedora::IndirectContainer'],\n",
       "  'id': '9s161617d/members',\n",
       "  'score': 1.0,\n",
       "  'system_create_dtsi': '2017-11-22T17:07:13Z',\n",
       "  'system_modified_dtsi': '2017-11-22T17:07:57Z',\n",
       "  'timestamp': '2017-12-19T22:36:19.825Z'},\n",
       " {'_version_': 1587253587344359426,\n",
       "  'has_model_ssim': ['ActiveFedora::Aggregation::Proxy'],\n",
       "  'id': '9s161617d/members/48b1bc62-58d3-4e00-8bdd-15b03234d446',\n",
       "  'proxyFor_ssim': ['pv63g024f'],\n",
       "  'score': 1.0,\n",
       "  'system_create_dtsi': '2017-11-22T17:07:57Z',\n",
       "  'system_modified_dtsi': '2017-11-22T17:07:57Z',\n",
       "  'timestamp': '2017-12-19T22:36:19.825Z'},\n",
       " {'_version_': 1587253587344359427,\n",
       "  'has_model_ssim': ['ActiveFedora::Aggregation::Proxy'],\n",
       "  'id': '9s161617d/members/b08f7577-c831-47f9-9c40-ec53b8bda25b',\n",
       "  'proxyFor_ssim': ['v692t621m'],\n",
       "  'score': 1.0,\n",
       "  'system_create_dtsi': '2017-11-22T17:07:50Z',\n",
       "  'system_modified_dtsi': '2017-11-22T17:07:50Z',\n",
       "  'timestamp': '2017-12-19T22:36:19.825Z'}]"
      ]
     },
     "execution_count": 10,
     "metadata": {},
     "output_type": "execute_result"
    }
   ],
   "source": [
    "[r for r in results]"
   ]
  },
  {
   "cell_type": "code",
   "execution_count": 22,
   "metadata": {
    "collapsed": true
   },
   "outputs": [],
   "source": [
    "# On using facets: https://stackoverflow.com/questions/18704339/how-to-use-facets-with-pysolr-cant-seem-to-get-facet-results-to-show\n",
    "# Trying to replicate this URL search:\n",
    "# http://gwfedora-test2.wrlc.org:8983/solr/scholarspace/select?q=Batik&facet=on&facet.field=gw_affiliation_sim"
   ]
  },
  {
   "cell_type": "code",
   "execution_count": 6,
   "metadata": {
    "collapsed": true
   },
   "outputs": [],
   "source": [
    "params = {'facet': 'on',\n",
    "         'facet.field': ['gw_affiliation_sim', 'resource_type_sim']}\n",
    "results = solr.search(['*'], **params)"
   ]
  },
  {
   "cell_type": "code",
   "execution_count": 85,
   "metadata": {
    "collapsed": true
   },
   "outputs": [],
   "source": [
    "params = {'facet': 'on',\n",
    "         'facet.field': ['keyword_tesim']}\n",
    "results = solr.search(['*'], **params)"
   ]
  },
  {
   "cell_type": "code",
   "execution_count": 7,
   "metadata": {
    "collapsed": true,
    "scrolled": true
   },
   "outputs": [],
   "source": [
    "#Facets are stored in a separate attribute\n",
    "# They are poorly structured: just a list of values, counts\n",
    "# Need to zip these into a dict \n",
    "aff_list = results.facets['facet_fields']['gw_affiliation_sim']"
   ]
  },
  {
   "cell_type": "code",
   "execution_count": 8,
   "metadata": {},
   "outputs": [
    {
     "data": {
      "text/plain": [
       "['Engineering Mgt and Systems Engineering',\n",
       " 183,\n",
       " 'Education and Human Development',\n",
       " 157,\n",
       " 'Educational Administration & Policy Studies',\n",
       " 126,\n",
       " 'Human & Organizational Learning',\n",
       " 126,\n",
       " 'Public Policy & Administration',\n",
       " 101,\n",
       " 'Biomedical Sciences',\n",
       " 95,\n",
       " 'History',\n",
       " 91,\n",
       " 'Political Science',\n",
       " 91,\n",
       " 'Electrical Engineering',\n",
       " 90,\n",
       " 'Biochemistry and Molecular Biology',\n",
       " 89,\n",
       " 'Corcoran School of Arts and Design',\n",
       " 89,\n",
       " 'Interior Design',\n",
       " 89,\n",
       " 'Mechanical & Aerospace Engineering',\n",
       " 85,\n",
       " 'Computer Science',\n",
       " 84,\n",
       " 'Systems Engineering',\n",
       " 84,\n",
       " 'Economics',\n",
       " 82,\n",
       " 'Higher Education Administration',\n",
       " 72,\n",
       " 'Exhibition Design',\n",
       " 70,\n",
       " 'Psychology',\n",
       " 70,\n",
       " 'New Media Photojournalism',\n",
       " 62,\n",
       " 'Sociology',\n",
       " 62,\n",
       " 'Civil & Environmental Engineering',\n",
       " 60,\n",
       " 'Law',\n",
       " 57,\n",
       " 'Biological Sciences',\n",
       " 56,\n",
       " 'Engineering Management',\n",
       " 53,\n",
       " 'International Affairs',\n",
       " 52,\n",
       " 'English',\n",
       " 51,\n",
       " 'Special Education',\n",
       " 48,\n",
       " 'Statistics',\n",
       " 48,\n",
       " 'Anthropology',\n",
       " 46,\n",
       " 'Geography',\n",
       " 46,\n",
       " 'Chemistry',\n",
       " 45,\n",
       " 'Counseling',\n",
       " 43,\n",
       " 'Fine Arts',\n",
       " 43,\n",
       " 'Art Education',\n",
       " 40,\n",
       " 'American Studies',\n",
       " 39,\n",
       " 'Educational Leadership & Administration',\n",
       " 39,\n",
       " 'Women’s, Gender & Sexuality Studies',\n",
       " 38,\n",
       " 'Curriculum & Instruction',\n",
       " 36,\n",
       " 'Physics',\n",
       " 30,\n",
       " 'Computer Engineering',\n",
       " 29,\n",
       " 'Media and Public Affairs',\n",
       " 28,\n",
       " 'School of Engineering and Applied Science',\n",
       " 28,\n",
       " 'Speech and Hearing Science',\n",
       " 27,\n",
       " 'Environmental Law',\n",
       " 25,\n",
       " 'Art and the Book',\n",
       " 23,\n",
       " 'Decorative Arts',\n",
       " 23,\n",
       " 'Epidemiology',\n",
       " 23,\n",
       " 'Finance',\n",
       " 23,\n",
       " 'Hominid Paleobiology',\n",
       " 23,\n",
       " 'Mathematics',\n",
       " 23,\n",
       " 'Organizational Sciences and Communication (I/O Psyc)',\n",
       " 20,\n",
       " 'Health Policy',\n",
       " 19,\n",
       " 'Religion',\n",
       " 19,\n",
       " 'Health Behavior',\n",
       " 17,\n",
       " 'Theatre and Dance',\n",
       " 16,\n",
       " 'Graduate School of Political Management',\n",
       " 14,\n",
       " 'Public Health and Health Services',\n",
       " 14,\n",
       " 'Political Management',\n",
       " 13,\n",
       " 'Biostatistics',\n",
       " 12,\n",
       " 'Human Resource Development',\n",
       " 12,\n",
       " 'International and Comparative Law',\n",
       " 11,\n",
       " 'Biomedical Engineering',\n",
       " 10,\n",
       " 'Business Administration',\n",
       " 10,\n",
       " 'Decision Sciences',\n",
       " 10,\n",
       " 'Government Procurement Law',\n",
       " 10,\n",
       " 'Interior Design (Corcoran legacy students only)',\n",
       " 10,\n",
       " 'Genomics and Bioinformatics',\n",
       " 9,\n",
       " 'Global Health',\n",
       " 9,\n",
       " 'Information Systems & Technology Management',\n",
       " 9,\n",
       " 'International Development Studies',\n",
       " 9,\n",
       " 'Management',\n",
       " 9,\n",
       " 'Accountancy',\n",
       " 8,\n",
       " 'Asian Studies',\n",
       " 8,\n",
       " 'Executive Leadership in Human Resource Development',\n",
       " 8,\n",
       " 'Human Sciences',\n",
       " 8,\n",
       " 'International Business',\n",
       " 8,\n",
       " 'Strategic Management & Public Policy',\n",
       " 8,\n",
       " 'Marketing',\n",
       " 7,\n",
       " 'Molecular Biochemistry & Bioinformatics',\n",
       " 7,\n",
       " 'Security Policy Studies',\n",
       " 7,\n",
       " 'Civil Engineering',\n",
       " 6,\n",
       " 'Microbiology & Immunology',\n",
       " 6,\n",
       " 'Philosophy & Social Policy',\n",
       " 6,\n",
       " 'Criminology',\n",
       " 5,\n",
       " 'Philosophy',\n",
       " 5,\n",
       " 'Speech-Language Pathology',\n",
       " 5,\n",
       " 'Environmental & Occupational Health',\n",
       " 4,\n",
       " 'Exercise Science',\n",
       " 4,\n",
       " 'Intellectual Property Law',\n",
       " 4,\n",
       " 'Islamic Studies',\n",
       " 4,\n",
       " 'Museum Education',\n",
       " 4,\n",
       " 'Tourism Administration',\n",
       " 4,\n",
       " 'Biochemistry & Systems Biology',\n",
       " 3,\n",
       " 'Business',\n",
       " 3,\n",
       " 'European & Eurasian Studies',\n",
       " 3,\n",
       " 'Forensic Sciences',\n",
       " 3,\n",
       " 'Microbiology & Emerging Infectious Diseases',\n",
       " 3,\n",
       " 'Molecular Medicine',\n",
       " 3,\n",
       " 'Organizational Sciences',\n",
       " 3]"
      ]
     },
     "execution_count": 8,
     "metadata": {},
     "output_type": "execute_result"
    }
   ],
   "source": [
    "aff_list"
   ]
  },
  {
   "cell_type": "code",
   "execution_count": 80,
   "metadata": {
    "collapsed": true
   },
   "outputs": [],
   "source": [
    "records = [{'department': k, 'count': v} for k,v in dict(zip(aff_list[::2], aff_list[1::2])).items()]"
   ]
  },
  {
   "cell_type": "code",
   "execution_count": 82,
   "metadata": {
    "collapsed": true
   },
   "outputs": [],
   "source": [
    "pd.DataFrame.from_records(records).to_clipboard(index=False)"
   ]
  }
 ],
 "metadata": {
  "kernelspec": {
   "display_name": "Python [Anaconda3]",
   "language": "python",
   "name": "Python [Anaconda3]"
  },
  "language_info": {
   "codemirror_mode": {
    "name": "ipython",
    "version": 3
   },
   "file_extension": ".py",
   "mimetype": "text/x-python",
   "name": "python",
   "nbconvert_exporter": "python",
   "pygments_lexer": "ipython3",
   "version": "3.5.1"
  }
 },
 "nbformat": 4,
 "nbformat_minor": 2
}
