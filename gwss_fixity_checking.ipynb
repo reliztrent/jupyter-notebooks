{
 "cells": [
  {
   "cell_type": "markdown",
   "metadata": {},
   "source": [
    "# Relevant documentation:\n",
    "1. https://wiki.duraspace.org/display/FEDORA471/Fixity+Checking (v4.7.1 - GWSS-ETD)\n",
    "2. https://wiki.duraspace.org/display/FEDORA46/Fixity+Checking (v4.6.0 - GWSS - unclear if this would work with GWSS)\n",
    "3. https://wiki.duraspace.org/display/FEDORA4x/RESTful+HTTP+API "
   ]
  },
  {
   "cell_type": "code",
   "execution_count": null,
   "metadata": {
    "collapsed": true
   },
   "outputs": [],
   "source": [
    "import pysolr\n",
    "import requests\n",
    "import re\n",
    "from requests.auth import HTTPBasicAuth"
   ]
  },
  {
   "cell_type": "markdown",
   "metadata": {},
   "source": [
    "# Get list of FileSet IDs from Solr\n",
    "Solr only indexes Fedora FileSets; it does not index the Files associated with these Filesets.\n",
    "\n",
    "The FileSet records in Solr do include some metadata from the Files associated with the FileSets (like checksum); unfortunatately it doesn't include the File ID.\n",
    "\n",
    "Solr can return the IDs of all FileSets, which we can take to Fedora to ask for the IDs of all the Files."
   ]
  },
  {
   "cell_type": "code",
   "execution_count": null,
   "metadata": {
    "collapsed": true
   },
   "outputs": [],
   "source": [
    "solr = pysolr.Solr('http://gwfedora-test2.wrlc.org:8983/solr/scholarspace')"
   ]
  },
  {
   "cell_type": "code",
   "execution_count": null,
   "metadata": {
    "collapsed": false,
    "scrolled": true
   },
   "outputs": [],
   "source": [
    "# For testing purposes, the number of results is limited to 3. \n",
    "# In production, this should be a very large number like rows = 99999999.\n",
    "results = solr.search('has_model_ssim:\"FileSet\"', rows = 3)\n",
    "len(results)"
   ]
  },
  {
   "cell_type": "markdown",
   "metadata": {
    "collapsed": true
   },
   "source": [
    "# Pass the FileSet IDs to Fedora and make a list of corresponding File IDs\n",
    "Excluding files that have type:ExtractedText"
   ]
  },
  {
   "cell_type": "code",
   "execution_count": null,
   "metadata": {
    "collapsed": false
   },
   "outputs": [],
   "source": [
    "headers = {'Accept': 'application/ld+json'}\n",
    "# Create an empty list to hold the file IDs.\n",
    "files = []\n",
    "# For each FileSet, get all of the linked Files and check to see if they are OCR text files. \n",
    "# If they aren't OCR text files, then add the File to our list.\n",
    "for x in results:\n",
    "    id=x['id']\n",
    "    # Split up the ID into 2-digit units, to construct the API request url.\n",
    "    idurl=re.findall('..',id)\n",
    "    # Construct & get API request URL, to request the FileSet record from Fedora. Save to \"fileset\" variable.\n",
    "    fileseturl='http://gwfedora-test2.wrlc.org:8080/fcrepo/rest/prod/'+idurl[0]+'/'+idurl[1]+'/'+idurl[2]+'/'+idurl[3]+'/'+id\n",
    "    request = requests.get(fileseturl, auth=HTTPBasicAuth('fedoraAdmin', 'dummypassword'), headers=headers)\n",
    "    fileset=request.json()\n",
    "    # The FileSet record appears to be returned as a list of one item, so grab the first/only item.\n",
    "    fileset=fileset[0]\n",
    "    # Isolate the list of files linked to the fileset\n",
    "    hasfile=fileset['http://pcdm.org/models#hasFile']\n",
    "\n",
    "    # Within the Files associated with a FileSEt, there are original files, OCR text \n",
    "    # files, and possibly other types of files. More research should be done to \n",
    "    # determine what other types of files might exist. In the meantime, this script \n",
    "    # excludes type:ExtractedText files and performs fixity checks on everything else. \n",
    "    \n",
    "    #For each File, check that it is type:ExtractedText, and if it isn't then add the ID/url to a list called \"files\"\n",
    "    for y in hasfile:\n",
    "        #Save the File ID\n",
    "        file=y['@id']\n",
    "        #Get the File record\n",
    "        request = requests.get(file+'/fcr:metadata', auth=HTTPBasicAuth('fedoraAdmin', 'dummypassword'), headers=headers)\n",
    "        request=request.json()\n",
    "        #Save File's list of PCDM types \n",
    "        type=request[0]['@type']\n",
    "        #If OriginalFile is in the list of types, then add this file to our list\n",
    "        if any(\"ExtractedText\" in s for s in type):\n",
    "            pass\n",
    "        else:\n",
    "            files.append(file)\n",
    "\n",
    "#Report the number of files for the filesets.\n",
    "len(files)\n"
   ]
  },
  {
   "cell_type": "markdown",
   "metadata": {},
   "source": [
    "# Run fixity checks on Files"
   ]
  },
  {
   "cell_type": "code",
   "execution_count": null,
   "metadata": {
    "collapsed": true
   },
   "outputs": [],
   "source": [
    "#For all our files in the list, run a fixity check\n",
    "for x in files:\n",
    "    url = x + '/fcr:fixity'\n",
    "    fixity = requests.get(url, auth=HTTPBasicAuth('fedoraAdmin', 'dummypassword'), headers=headers)\n"
   ]
  },
  {
   "cell_type": "code",
   "execution_count": null,
   "metadata": {
    "collapsed": false
   },
   "outputs": [],
   "source": [
    "#Test outcome: view the last fixity check\n",
    "fixity.json()"
   ]
  },
  {
   "cell_type": "code",
   "execution_count": 1,
   "metadata": {
    "collapsed": true
   },
   "outputs": [],
   "source": [
    "#Parse results to check for outcome\n"
   ]
  },
  {
   "cell_type": "code",
   "execution_count": 2,
   "metadata": {
    "collapsed": true
   },
   "outputs": [],
   "source": [
    "#Report results\n"
   ]
  }
 ],
 "metadata": {
  "kernelspec": {
   "display_name": "Python 3",
   "language": "python",
   "name": "python3"
  },
  "language_info": {
   "codemirror_mode": {
    "name": "ipython",
    "version": 3
   },
   "file_extension": ".py",
   "mimetype": "text/x-python",
   "name": "python",
   "nbconvert_exporter": "python",
   "pygments_lexer": "ipython3",
   "version": "3.5.1"
  }
 },
 "nbformat": 4,
 "nbformat_minor": 2
}
